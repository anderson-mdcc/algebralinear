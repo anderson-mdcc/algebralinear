{
 "cells": [
  {
   "cell_type": "markdown",
   "metadata": {},
   "source": [
    "# produto vetorial de matrizes"
   ]
  },
  {
   "cell_type": "code",
   "execution_count": 1,
   "metadata": {},
   "outputs": [],
   "source": [
    "# imports\n",
    "import numpy as np"
   ]
  },
  {
   "cell_type": "markdown",
   "metadata": {},
   "source": [
    "## Matriz A"
   ]
  },
  {
   "cell_type": "code",
   "execution_count": 2,
   "metadata": {},
   "outputs": [
    {
     "name": "stdout",
     "output_type": "stream",
     "text": [
      "[[6 3]\n",
      " [2 4]\n",
      " [1 5]]\n"
     ]
    }
   ],
   "source": [
    "# gerar matrizes aleatoriamente\n",
    "# fixar random seed\n",
    "np.random.seed(0)\n",
    "# gerar matriz a (3 x 2)\n",
    "a = np.random.permutation(6).reshape((3,2)) + 1\n",
    "print(a)"
   ]
  },
  {
   "cell_type": "markdown",
   "metadata": {},
   "source": [
    "## Vetor X"
   ]
  },
  {
   "cell_type": "code",
   "execution_count": 3,
   "metadata": {
    "scrolled": true
   },
   "outputs": [
    {
     "name": "stdout",
     "output_type": "stream",
     "text": [
      "[2. 1.]\n"
     ]
    }
   ],
   "source": [
    "# outro seed e gerar com 2 elementos\n",
    "np.random.seed(31)\n",
    "#x = np.random.permutation(2).reshape((2,1)) + 1 * 3 / 5\n",
    "x = np.random.permutation(2) + 1 * 3 / 5\n",
    "x = np.ceil(x)\n",
    "print(x)"
   ]
  },
  {
   "cell_type": "markdown",
   "metadata": {},
   "source": [
    "## Matriz resultado"
   ]
  },
  {
   "cell_type": "code",
   "execution_count": 4,
   "metadata": {},
   "outputs": [
    {
     "name": "stdout",
     "output_type": "stream",
     "text": [
      "[[0.]\n",
      " [0.]\n",
      " [0.]]\n"
     ]
    }
   ],
   "source": [
    "# matriz resultante\n",
    "#nels = np.shape(a)[0] * np.shape(x)[1]\n",
    "nels = np.shape(a)[0]\n",
    "#res = np.zeros(nels).reshape((np.shape(a)[0],np.shape(x)[1]))\n",
    "res = np.zeros(nels).reshape((np.shape(a)[0],1))\n",
    "print(res)"
   ]
  },
  {
   "cell_type": "markdown",
   "metadata": {},
   "source": [
    "# Calcular com somatório"
   ]
  },
  {
   "cell_type": "code",
   "execution_count": 5,
   "metadata": {
    "scrolled": true
   },
   "outputs": [
    {
     "name": "stdout",
     "output_type": "stream",
     "text": [
      "[[15.]\n",
      " [ 8.]\n",
      " [ 7.]]\n"
     ]
    }
   ],
   "source": [
    "'''\n",
    "# iteracao linhas m1\n",
    "# calcula matriz x matrix\n",
    "for l in range(0, np.shape(a)[0]):\n",
    "    # iteracao colunas m2 (z)\n",
    "    for z in range(0, np.shape(x)[1]):\n",
    "        soma = 0\n",
    "        for c in range(0, np.shape(a)[1]):\n",
    "            soma = soma + (a[l, c] * x[c, z])\n",
    "        res[l, z] = soma\n",
    "print(res)\n",
    "'''\n",
    "\n",
    "# calcula matriz * vetor\n",
    "for l in range(0, np.shape(a)[0]):\n",
    "    # iteracao colunas m2 (z)\n",
    "    soma = 0\n",
    "    for c in range(0, np.shape(a)[1]):\n",
    "        soma += (a[l, c] * x[c])\n",
    "    res[l, 0] = soma\n",
    "print(res)"
   ]
  },
  {
   "cell_type": "markdown",
   "metadata": {},
   "source": [
    "# Calcular direto na matriz resultante"
   ]
  },
  {
   "cell_type": "code",
   "execution_count": 6,
   "metadata": {},
   "outputs": [
    {
     "name": "stdout",
     "output_type": "stream",
     "text": [
      "Iteracao 1\n",
      "[[12.]\n",
      " [ 0.]\n",
      " [ 0.]]\n",
      "\n",
      "Iteracao 2\n",
      "[[12.]\n",
      " [ 4.]\n",
      " [ 0.]]\n",
      "\n",
      "Iteracao 3\n",
      "[[12.]\n",
      " [ 4.]\n",
      " [ 2.]]\n",
      "\n",
      "Iteracao 4\n",
      "[[15.]\n",
      " [ 4.]\n",
      " [ 2.]]\n",
      "\n",
      "Iteracao 5\n",
      "[[15.]\n",
      " [ 8.]\n",
      " [ 2.]]\n",
      "\n",
      "Iteracao 6\n",
      "[[15.]\n",
      " [ 8.]\n",
      " [ 7.]]\n",
      "\n"
     ]
    }
   ],
   "source": [
    "# calcula matriz * vetor\n",
    "iteracao = 0\n",
    "res = np.zeros(np.shape(a)[0]) # limpar matriz resultado\n",
    "for c in range(0, np.shape(a)[1]):\n",
    "    for l in range(0, np.shape(a)[0]):\n",
    "        res[l] += (a[l, c] * x[c])\n",
    "        iteracao += 1\n",
    "        # mostrar construção do resultado em cada iteração\n",
    "        print('Iteracao', iteracao)\n",
    "        print(res.reshape((np.shape(res)[0],1)))\n",
    "        print('')"
   ]
  },
  {
   "cell_type": "code",
   "execution_count": null,
   "metadata": {},
   "outputs": [],
   "source": []
  }
 ],
 "metadata": {
  "kernelspec": {
   "display_name": "Python 3",
   "language": "python",
   "name": "python3"
  },
  "language_info": {
   "codemirror_mode": {
    "name": "ipython",
    "version": 3
   },
   "file_extension": ".py",
   "mimetype": "text/x-python",
   "name": "python",
   "nbconvert_exporter": "python",
   "pygments_lexer": "ipython3",
   "version": "3.7.3"
  }
 },
 "nbformat": 4,
 "nbformat_minor": 2
}
