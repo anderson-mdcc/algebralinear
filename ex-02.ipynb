{
 "cells": [
  {
   "cell_type": "markdown",
   "metadata": {},
   "source": [
    "# Pivotação parcial"
   ]
  },
  {
   "cell_type": "code",
   "execution_count": 21,
   "metadata": {},
   "outputs": [],
   "source": [
    "# imports\n",
    "import numpy as np"
   ]
  },
  {
   "cell_type": "code",
   "execution_count": 22,
   "metadata": {},
   "outputs": [],
   "source": [
    "class Pivotacao(object):\n",
    "    def __init__(self, a, b):\n",
    "        self.a = a\n",
    "        self.b = b\n",
    "        # Linha e coluna onde se encontram o pivo\n",
    "        self.lPivo = 0\n",
    "        self.cPivo = 0\n",
    "    \n",
    "    def imprimeMatriz(self, msg):\n",
    "      print(msg)\n",
    "      for l in range(0, len(self.a)):\n",
    "          print('[', end='')\n",
    "          for c in range(0, len(self.a)):\n",
    "              print(self.a[l][c], end=' ')\n",
    "          print(']', end=' ')\n",
    "          print('[', self.b[l][0], ']')\n",
    "      print(\"*\"*49, '\\n')\n",
    "\n",
    "    \n",
    "    def checaColuna(self, elem):\n",
    "      if elem != 0:\n",
    "        return False \n",
    "      return True\n",
    "\n",
    "    def mudaLinhas(self, linhamaiorCoeficiente):\n",
    "      linhaAtual = []\n",
    "      for c in range (len(self.a[0])):\n",
    "          linhaAtual.append(self.a[self.lPivo][c])\n",
    "          self.a[self.lPivo][c] = self.a[linhamaiorCoeficiente][c]\n",
    "      self.a[linhamaiorCoeficiente] = linhaAtual\n",
    "      linhaAtual = []\n",
    "      linhaAtual.append(self.b[self.lPivo][0])\n",
    "      self.b[self.lPivo][0] = self.b[linhamaiorCoeficiente][0]\n",
    "      self.b[linhamaiorCoeficiente] = linhaAtual\n",
    "    \n",
    "    def mudaValores(self):\n",
    "      matrizAuxA = self.a\n",
    "      matrizAuxB = self.b\n",
    "    \n",
    "      for l in range(self.lPivo + 1, len(self.a)):\n",
    "        multiplicador = self.a[l][self.cPivo]/self.a[self.lPivo][self.cPivo]\n",
    "        for c in range (len(self.a[0])):\n",
    "          matrizAuxA[l][c] = self.a[l][c] - (multiplicador * self.a[self.lPivo][c])\n",
    "        #Mudando os valores de b\n",
    "        matrizAuxB[l][0] = self.b[l][0] - (multiplicador * self.b[self.lPivo][0])\n",
    "      self.a = matrizAuxA\n",
    "      self.b = matrizAuxB\n",
    "\n",
    "    def iniciaPivoteamento(self):\n",
    "        for c in range (len(self.a[0]) - 1):\n",
    "          isZerado = True\n",
    "          linhamaiorCoeficiente = 0\n",
    "          for l in range(self.lPivo + 1, len(self.a)):\n",
    "            if self.a[linhamaiorCoeficiente][c] < self.a[l][c]:\n",
    "              linhamaiorCoeficiente = l\n",
    "            # Checando se os elementos da colunas estão zerados\n",
    "            isZerado = self.checaColuna(self.a[l][c])\n",
    "          \n",
    "          if not isZerado:\n",
    "            # Precisa zerar\n",
    "            if self.a[self.lPivo][self.cPivo] == 0:\n",
    "              # Precisa Pivotar\n",
    "              self.mudaLinhas(linhamaiorCoeficiente)\n",
    "              self.imprimeMatriz(\"Matriz pivoteada\")\n",
    "            self.mudaValores()\n",
    "            self.imprimeMatriz(\"Matriz valores mudados\")\n",
    "          self.lPivo += 1\n",
    "          self.cPivo += 1\n",
    "  \n",
    "    def resolveSistemaLinear(self):\n",
    "      a_inversa = np.linalg.inv(self.a)\n",
    "      res = np.dot(a_inversa, b)\n",
    "      print(\"*\"*15, \"Resultado Final\", \"*\"*15)\n",
    "      print(\"\\nx1 = \", res[0][0])\n",
    "      print(\"\\nx2 = \", res[1][0])\n",
    "      print(\"\\nx3 = \", res[2][0])\n"
   ]
  },
  {
   "cell_type": "code",
   "execution_count": 23,
   "metadata": {},
   "outputs": [
    {
     "name": "stdout",
     "output_type": "stream",
     "text": [
      "*************** Pivotação Parcial ***************\n",
      "Matriz Original\n",
      "[3.0 5.0 2.0 4.0 ] [ 7.0 ]\n",
      "[0.0 0.0 1.0 5.0 ] [ 1.0 ]\n",
      "[0.0 3.0 2.0 3.0 ] [ 6.0 ]\n",
      "[0.0 9.0 7.0 4.0 ] [ 8.0 ]\n",
      "************************************************* \n",
      "\n"
     ]
    }
   ],
   "source": [
    "print(\"*\"*15, \"Pivotação Parcial\", \"*\"*15)\n",
    "\n",
    "a = np.array([[3.0, 5.0, 2.0, 4.0], [0.0, 0.0, 1.0, 5.0], [0.0, 3.0, 2.0, 3.0], [0.0, 9.0, 7.0, 4.0]])\n",
    "b = np.array([[7.0], [1.0], [6.0], [8.0]])\n",
    "    \n",
    "p = Pivotacao(a, b)\n",
    "p.imprimeMatriz(\"Matriz Original\")"
   ]
  },
  {
   "cell_type": "code",
   "execution_count": 24,
   "metadata": {},
   "outputs": [
    {
     "name": "stdout",
     "output_type": "stream",
     "text": [
      "Matriz pivoteada\n",
      "[3.0 5.0 2.0 4.0 ] [ 7.0 ]\n",
      "[0.0 9.0 7.0 4.0 ] [ 8.0 ]\n",
      "[0.0 3.0 2.0 3.0 ] [ 6.0 ]\n",
      "[0.0 0.0 1.0 5.0 ] [ 1.0 ]\n",
      "************************************************* \n",
      "\n",
      "Matriz valores mudados\n",
      "[3.0 5.0 2.0 4.0 ] [ 7.0 ]\n",
      "[0.0 9.0 7.0 4.0 ] [ 8.0 ]\n",
      "[0.0 0.0 -0.33333333333333304 1.6666666666666667 ] [ 3.3333333333333335 ]\n",
      "[0.0 0.0 1.0 5.0 ] [ 1.0 ]\n",
      "************************************************* \n",
      "\n",
      "Matriz valores mudados\n",
      "[3.0 5.0 2.0 4.0 ] [ 7.0 ]\n",
      "[0.0 9.0 7.0 4.0 ] [ 8.0 ]\n",
      "[0.0 0.0 -0.33333333333333304 1.6666666666666667 ] [ 3.3333333333333335 ]\n",
      "[0.0 0.0 0.0 10.000000000000004 ] [ 11.000000000000009 ]\n",
      "************************************************* \n",
      "\n"
     ]
    }
   ],
   "source": [
    "p.iniciaPivoteamento()"
   ]
  },
  {
   "cell_type": "code",
   "execution_count": 25,
   "metadata": {},
   "outputs": [
    {
     "name": "stdout",
     "output_type": "stream",
     "text": [
      "*************** Resultado Final ***************\n",
      "\n",
      "x1 =  -2.633333333333335\n",
      "\n",
      "x2 =  3.900000000000001\n",
      "\n",
      "x3 =  -4.500000000000002\n"
     ]
    }
   ],
   "source": [
    "p.resolveSistemaLinear()"
   ]
  },
  {
   "cell_type": "code",
   "execution_count": null,
   "metadata": {},
   "outputs": [],
   "source": []
  }
 ],
 "metadata": {
  "kernelspec": {
   "display_name": "Python 3",
   "language": "python",
   "name": "python3"
  },
  "language_info": {
   "codemirror_mode": {
    "name": "ipython",
    "version": 3
   },
   "file_extension": ".py",
   "mimetype": "text/x-python",
   "name": "python",
   "nbconvert_exporter": "python",
   "pygments_lexer": "ipython3",
   "version": "3.7.3"
  }
 },
 "nbformat": 4,
 "nbformat_minor": 2
}
