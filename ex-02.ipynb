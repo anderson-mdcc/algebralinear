{
 "cells": [
  {
   "cell_type": "markdown",
   "metadata": {},
   "source": [
    "# Pivotação parcial e total"
   ]
  },
  {
   "cell_type": "code",
   "execution_count": 3,
   "metadata": {},
   "outputs": [],
   "source": [
    "# imports\n",
    "import numpy as np"
   ]
  },
  {
   "cell_type": "code",
   "execution_count": 11,
   "metadata": {},
   "outputs": [
    {
     "name": "stdout",
     "output_type": "stream",
     "text": [
      "*************** Pivotação Parcial ***************\n",
      "Matriz original: \n",
      "[8 6 0 ] [ 2 ]\n",
      "[2 -8 5 ] [ 4 ]\n",
      "[-10 10 15 ] [ 8 ]\n",
      "************************************************* \n",
      "\n"
     ]
    }
   ],
   "source": [
    "a = np.array([[8, 6, 0], [2, -8, 5], [-10, 10, 15]])\n",
    "b = np.array([[2], [4], [8]])\n",
    "\n",
    "print(\"*\"*15, \"Pivotação Parcial\", \"*\"*15)\n",
    "print(\"Matriz original: \")\n",
    "for l in range(0, 3):\n",
    "    print('[', end='')\n",
    "    for c in range(0, 3):\n",
    "        print(a[l][c], end=' ')\n",
    "    print(']', end=' ')\n",
    "    print('[', b[l][0], ']')\n",
    "print(\"*\"*49, '\\n')"
   ]
  },
  {
   "cell_type": "code",
   "execution_count": 13,
   "metadata": {},
   "outputs": [
    {
     "name": "stdout",
     "output_type": "stream",
     "text": [
      "Classe para Pivotação\n",
      "*************** Pivotação Parcial Realizada ***************\n",
      "Matriz Pivotada: \n",
      "[8 6 0 ] [ 2 ]\n",
      "[0 17 15 ] [ 10 ]\n",
      "[0 0 12 ] [ 8 ]\n",
      "************************************************* \n",
      "\n"
     ]
    }
   ],
   "source": [
    "class Pivotacao(object):\n",
    "    def __init__(self, a, b):\n",
    "        self.a = a\n",
    "        self.b = b\n",
    "        # Linha e coluna onde se encontram o pivo\n",
    "        self.lPivo = 0\n",
    "        self.cPivo = 0\n",
    "\n",
    "    def mudaLinhas(self):\n",
    "        for l in range(self.lPivo, len(a) - 1):\n",
    "            if a[l][self.cPivo] < a[l + 1][self.cPivo]:\n",
    "                aux = np.array(a[l])\n",
    "                a[l] = a[l + 1]\n",
    "                a[l + 1] = aux\n",
    "                aux = np.array(b[l])\n",
    "                b[l] = b[l + 1]\n",
    "                b[l + 1] = aux\n",
    "                break\n",
    "        self.pivotea(self.lPivo, self.cPivo)\n",
    "\n",
    "    def pivotea(self, linha, coluna):\n",
    "        pivo = a[linha][coluna]\n",
    "        for l in range(linha + 1, len(a)):\n",
    "            elementoZerado = a[l][coluna]\n",
    "            coeficiente = elementoZerado / pivo\n",
    "            a[l] = a[l] - coeficiente*a[linha]\n",
    "            b[l] = b[l] - coeficiente*b[coluna]\n",
    "\n",
    "\n",
    "        self.lPivo +=1\n",
    "        self.cPivo +=1\n",
    "        self.estaEscalonada()\n",
    "\n",
    "    def iniciaPivoteamento(self):\n",
    "        self.mudaLinhas()\n",
    "\n",
    "    def estaEscalonada(self):\n",
    "        for c in range(len(a) - 1):\n",
    "            if a[len(a) - 1][c] != 0:\n",
    "                self.mudaLinhas()\n",
    "                break\n",
    "\n",
    "\n",
    "p = Pivotacao(a, b)\n",
    "p.iniciaPivoteamento()\n",
    "\n",
    "print(\"*\"*15, \"Pivotação Parcial Realizada\", \"*\"*15)\n",
    "print(\"Matriz Pivotada: \")\n",
    "for l in range(0, 3):\n",
    "    print('[', end='')\n",
    "    for c in range(0, 3):\n",
    "        print(a[l][c], end=' ')\n",
    "    print(']', end=' ')\n",
    "    print('[', b[l][0], ']')\n",
    "print(\"*\"*49, '\\n')\n",
    "\n",
    "a_inversa = np.linalg.inv(a)\n",
    "x = np.dot(a, b)"
   ]
  },
  {
   "cell_type": "code",
   "execution_count": 14,
   "metadata": {},
   "outputs": [
    {
     "name": "stdout",
     "output_type": "stream",
     "text": [
      "*************** Resultado Final ***************\n",
      "\n",
      "x1 =  76\n",
      "\n",
      "x2 =  290\n",
      "\n",
      "x3 =  96\n"
     ]
    }
   ],
   "source": [
    "print(\"*\"*15, \"Resultado Final\", \"*\"*15)\n",
    "print(\"\\nx1 = \", x[0][0])\n",
    "print(\"\\nx2 = \", x[1][0])\n",
    "print(\"\\nx3 = \", x[2][0])"
   ]
  },
  {
   "cell_type": "code",
   "execution_count": null,
   "metadata": {},
   "outputs": [],
   "source": []
  }
 ],
 "metadata": {
  "kernelspec": {
   "display_name": "Python 3",
   "language": "python",
   "name": "python3"
  },
  "language_info": {
   "codemirror_mode": {
    "name": "ipython",
    "version": 3
   },
   "file_extension": ".py",
   "mimetype": "text/x-python",
   "name": "python",
   "nbconvert_exporter": "python",
   "pygments_lexer": "ipython3",
   "version": "3.7.3"
  }
 },
 "nbformat": 4,
 "nbformat_minor": 2
}
