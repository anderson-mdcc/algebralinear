{
 "cells": [
  {
   "cell_type": "markdown",
   "metadata": {},
   "source": [
    "# Decomposição QR com HouseHolder"
   ]
  },
  {
   "cell_type": "markdown",
   "metadata": {},
   "source": [
    "---\n",
    "### Imports"
   ]
  },
  {
   "cell_type": "code",
   "execution_count": 1,
   "metadata": {},
   "outputs": [],
   "source": [
    "# imports\n",
    "import numpy as np\n",
    "from numpy import dot,diagonal,outer,identity,matmul,transpose,zeros_like\n",
    "from math import sqrt"
   ]
  },
  {
   "cell_type": "markdown",
   "metadata": {},
   "source": [
    "### Definição de funções"
   ]
  },
  {
   "cell_type": "code",
   "execution_count": 2,
   "metadata": {},
   "outputs": [],
   "source": [
    "norma = lambda x : np.sqrt(np.sum(np.square(x)))\n",
    "\n",
    "# converter array 1d para vetor de coluna\n",
    "def conv_col(x):\n",
    "    x.shape = (1, x.shape[0])\n",
    "    return x\n",
    "\n",
    "# matriz HH para vetor v\n",
    "def HH(v):\n",
    "    tam_de_v = v.shape[1]\n",
    "    e1 = zeros_like(v)\n",
    "    e1[0, 0] = 1\n",
    "    vet = norma(v) * e1\n",
    "    # funcao sinal (sign)\n",
    "    if v[0, 0] < 0:\n",
    "        vet = - vet\n",
    "    u = (v + vet).astype(np.float32)\n",
    "    m_identid = identity(tam_de_v)\n",
    "    H = m_identid - ((2 * (u.T.dot(u))) / (u.dot(u.T)))\n",
    "    return H\n",
    "\n",
    "def it_qr_hh(q, r, iter, n):\n",
    "    v = conv_col(r[iter:, iter])\n",
    "    Hb = HH(v)\n",
    "    H = identity(n)\n",
    "    H[iter:, iter:] = Hb\n",
    "    r = matmul(H, r)\n",
    "    q = matmul(q, H)\n",
    "    return q, r"
   ]
  },
  {
   "cell_type": "markdown",
   "metadata": {},
   "source": [
    "### Matriz A de entrada"
   ]
  },
  {
   "cell_type": "code",
   "execution_count": 3,
   "metadata": {},
   "outputs": [
    {
     "name": "stdout",
     "output_type": "stream",
     "text": [
      "Matriz A:\n",
      " [[ 2  7  9 10]\n",
      " [14  5  3 15]\n",
      " [11  8 16 12]\n",
      " [ 4  1  6 13]]\n"
     ]
    }
   ],
   "source": [
    "# dimensao da matriz\n",
    "l, c = (4,4)\n",
    "np.random.seed(0)\n",
    "A = np.random.permutation(l*c).reshape((l,c)) + 1\n",
    "\n",
    "print('Matriz A:\\n', A)"
   ]
  },
  {
   "cell_type": "markdown",
   "metadata": {},
   "source": [
    "### Encontrar Q e R"
   ]
  },
  {
   "cell_type": "code",
   "execution_count": 4,
   "metadata": {},
   "outputs": [
    {
     "name": "stdout",
     "output_type": "stream",
     "text": [
      "Matriz Q:\n",
      " [[-0.10894692  0.86793078  0.28657299 -0.39077214]\n",
      " [-0.76262861 -0.33687984  0.53285001 -0.14484625]\n",
      " [-0.59920824  0.32866332 -0.50704754  0.52519778]\n",
      " [-0.2178939  -0.15870975 -0.61388066 -0.7419461 ]]\n",
      "Matriz R:\n",
      " [[-18.35756063  -9.5873313  -14.16310328 -22.55201793]\n",
      " [  0.0000013    6.86171309  11.10709216   5.50684329]\n",
      " [  0.00000045  -0.00000006  -7.61833777  -3.20653915]\n",
      " [ -0.00000052  -0.00000004  -0.00000007  -9.42334096]]\n",
      "Validação:\n",
      " True\n",
      "Matriz Q * R:\n",
      " [[ 2.00000114  7.00000223  9.00000388 10.00000326]\n",
      " [14.00000091  5.00000033  3.00000105 15.00000085]\n",
      " [11.00000145  8.0000013  16.00000136 12.00000233]\n",
      " [ 4.00000036  1.00000027  6.00000024 13.00000081]]\n"
     ]
    }
   ],
   "source": [
    "Q = identity(l)\n",
    "R = A.astype(np.float32)\n",
    "for i in range(min(l, c)):\n",
    "    Q, R = it_qr_hh(Q, R, i, l)\n",
    "\n",
    "np.set_printoptions(suppress=True)\n",
    "print('Matriz Q:\\n', Q)\n",
    "print('Matriz R:\\n', np.around(R, decimals=10))\n",
    "print('Validação:\\n', np.allclose(A, np.dot(Q, R)))\n",
    "print('Matriz Q * R:\\n', np.dot(Q, R))"
   ]
  },
  {
   "cell_type": "markdown",
   "metadata": {},
   "source": [
    "### Usando função do numpy para comparação"
   ]
  },
  {
   "cell_type": "code",
   "execution_count": 5,
   "metadata": {},
   "outputs": [
    {
     "data": {
      "text/plain": [
       "True"
      ]
     },
     "execution_count": 5,
     "metadata": {},
     "output_type": "execute_result"
    }
   ],
   "source": [
    "q, r = np.linalg.qr(A)\n",
    "np.allclose(A, np.dot(q, r))"
   ]
  },
  {
   "cell_type": "code",
   "execution_count": 6,
   "metadata": {},
   "outputs": [
    {
     "name": "stdout",
     "output_type": "stream",
     "text": [
      "Matriz q:\n",
      " [[-0.10894694  0.86793062  0.28657306  0.39077216]\n",
      " [-0.76262859 -0.3368799   0.53285001  0.14484621]\n",
      " [-0.59920818  0.32866331 -0.5070476  -0.52519778]\n",
      " [-0.21789388 -0.15870978 -0.61388067  0.74194608]]\n",
      "Matriz r:\n",
      " [[-18.35755975  -9.58733091 -14.16310248 -22.55201702]\n",
      " [  0.           6.8617116   11.10709023   5.50684033]\n",
      " [  0.           0.          -7.61833806  -3.20653917]\n",
      " [  0.           0.           0.           9.4233404 ]]\n"
     ]
    }
   ],
   "source": [
    "print('Matriz q:\\n', q)\n",
    "print('Matriz r:\\n', r)"
   ]
  }
 ],
 "metadata": {
  "kernelspec": {
   "display_name": "Python 3",
   "language": "python",
   "name": "python3"
  },
  "language_info": {
   "codemirror_mode": {
    "name": "ipython",
    "version": 3
   },
   "file_extension": ".py",
   "mimetype": "text/x-python",
   "name": "python",
   "nbconvert_exporter": "python",
   "pygments_lexer": "ipython3",
   "version": "3.6.5"
  }
 },
 "nbformat": 4,
 "nbformat_minor": 2
}
