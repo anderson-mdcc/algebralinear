{
 "cells": [
  {
   "cell_type": "markdown",
   "metadata": {},
   "source": [
    "# HouseHolder"
   ]
  },
  {
   "cell_type": "code",
   "execution_count": 1,
   "metadata": {},
   "outputs": [],
   "source": [
    "# imports\n",
    "import numpy as np\n",
    "from numpy import dot,diagonal,outer,identity\n",
    "from math import sqrt"
   ]
  },
  {
   "cell_type": "code",
   "execution_count": 2,
   "metadata": {},
   "outputs": [],
   "source": [
    "def householder(a): \n",
    "    n = len(a)\n",
    "    for k in range(n-2):\n",
    "        u = a[k+1:n,k]\n",
    "        uMag = sqrt(dot(u,u))\n",
    "        if u[0] < 0.0: uMag = -uMag\n",
    "        u[0] = u[0] + uMag\n",
    "        h = dot(u,u)/2.0\n",
    "        v = dot(a[k+1:n,k+1:n],u)/h\n",
    "        g = dot(u,v)/(2.0*h)\n",
    "        v = v - g*u\n",
    "        a[k+1:n,k+1:n] = a[k+1:n,k+1:n] - outer(v,u) \\\n",
    "                         - outer(u,v)\n",
    "        a[k,k+1] = -uMag\n",
    "    return diagonal(a),diagonal(a,1)\n",
    "\n",
    "def computeP(a): \n",
    "    n = len(a)\n",
    "    p = identity(n)*1.0\n",
    "    for k in range(n-2):\n",
    "        u = a[k+1:n,k]\n",
    "        h = dot(u,u)/2.0\n",
    "        v = dot(p[1:n,k+1:n],u)/h           \n",
    "        p[1:n,k+1:n] = p[1:n,k+1:n] - outer(v,u)\n",
    "    return p"
   ]
  },
  {
   "cell_type": "code",
   "execution_count": 3,
   "metadata": {},
   "outputs": [
    {
     "name": "stdout",
     "output_type": "stream",
     "text": [
      "[[3 4]\n",
      " [2 1]]\n",
      "[3 1] [4]\n"
     ]
    }
   ],
   "source": [
    "# gerar matrizes aleatoriamente\n",
    "# fixar random seed\n",
    "np.random.seed(0)\n",
    "# gerar matriz a (5 x 5)\n",
    "a = np.random.permutation(4).reshape((2,2)) + 1\n",
    "print(a)\n",
    "\n",
    "d,c = householder(a)\n",
    "p = computeP(a)\n",
    "print(d,c)"
   ]
  }
 ],
 "metadata": {
  "kernelspec": {
   "display_name": "Python 3",
   "language": "python",
   "name": "python3"
  },
  "language_info": {
   "codemirror_mode": {
    "name": "ipython",
    "version": 3
   },
   "file_extension": ".py",
   "mimetype": "text/x-python",
   "name": "python",
   "nbconvert_exporter": "python",
   "pygments_lexer": "ipython3",
   "version": "3.7.3"
  }
 },
 "nbformat": 4,
 "nbformat_minor": 2
}
