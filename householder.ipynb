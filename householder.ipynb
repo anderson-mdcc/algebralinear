{
 "cells": [
  {
   "cell_type": "markdown",
   "metadata": {},
   "source": [
    "# HouseHolder"
   ]
  },
  {
   "cell_type": "markdown",
   "metadata": {},
   "source": [
    "---\n",
    "### Imports"
   ]
  },
  {
   "cell_type": "code",
   "execution_count": 1,
   "metadata": {},
   "outputs": [],
   "source": [
    "# imports\n",
    "import numpy as np\n",
    "from numpy import dot,diagonal,outer,identity,matmul,transpose,zeros_like\n",
    "from math import sqrt"
   ]
  },
  {
   "cell_type": "markdown",
   "metadata": {},
   "source": [
    "### Definição de funções"
   ]
  },
  {
   "cell_type": "code",
   "execution_count": 2,
   "metadata": {},
   "outputs": [],
   "source": [
    "norma = lambda x : np.sqrt(np.sum(np.square(x)))\n",
    "\n",
    "# converter array 1d para vetor de coluna\n",
    "def conv_col(x):\n",
    "    x.shape = (1, x.shape[0])\n",
    "    return x\n",
    "\n",
    "# matriz HH para vetor v\n",
    "def HH(v):\n",
    "    tam_de_v = v.shape[1]\n",
    "    e1 = zeros_like(v)\n",
    "    e1[0, 0] = 1\n",
    "    vector = norma(v) * e1\n",
    "    if v[0, 0] < 0:\n",
    "        vector = - vector\n",
    "    u = (v + vector).astype(np.float32)\n",
    "    m_identid = identity(tam_de_v)\n",
    "    H = m_identid - ((2 * (u.T.dot(u))) / (u.dot(u.T)))\n",
    "    return H\n",
    "\n",
    "def it_qr_hh(q, r, iter, n):\n",
    "    v = conv_col(r[iter:, iter])\n",
    "    Hb = HH(v)\n",
    "    H = identity(n)\n",
    "    H[iter:, iter:] = Hb\n",
    "    r = matmul(H, r)\n",
    "    q = matmul(q, H)\n",
    "    return q, r"
   ]
  },
  {
   "cell_type": "markdown",
   "metadata": {},
   "source": [
    "### Matriz A de entrada"
   ]
  },
  {
   "cell_type": "code",
   "execution_count": 3,
   "metadata": {},
   "outputs": [
    {
     "name": "stdout",
     "output_type": "stream",
     "text": [
      "Matriz A:\n",
      " [[ 2  7  9 10]\n",
      " [14  5  3 15]\n",
      " [11  8 16 12]\n",
      " [ 4  1  6 13]]\n"
     ]
    }
   ],
   "source": [
    "# dimensao da matriz\n",
    "l, c = (4,4)\n",
    "np.random.seed(0)\n",
    "A = np.random.permutation(l*c).reshape((l,c)) + 1\n",
    "\n",
    "print('Matriz A:\\n', A)"
   ]
  },
  {
   "cell_type": "markdown",
   "metadata": {},
   "source": [
    "### Encontrar Q e R"
   ]
  },
  {
   "cell_type": "code",
   "execution_count": 4,
   "metadata": {},
   "outputs": [
    {
     "name": "stdout",
     "output_type": "stream",
     "text": [
      "Matriz Q:\n",
      " [[-0.1089468   0.86793046  0.28657305 -0.39077214]\n",
      " [-0.76262856 -0.33687984  0.53284997 -0.1448462 ]\n",
      " [-0.59920818  0.32866326 -0.50704754  0.52519778]\n",
      " [-0.21789388 -0.15870979 -0.61388066 -0.74194609]]\n",
      "Matriz R:\n",
      " [[-1.83575588e+01 -9.58732967e+00 -1.41631010e+01 -2.25520149e+01]\n",
      " [-1.84260749e-07  6.86171030e+00  1.11070880e+01  5.50683885e+00]\n",
      " [ 8.02813133e-08  2.14348100e-07 -7.61833721e+00 -3.20653906e+00]\n",
      " [ 7.75254647e-08  1.35077785e-07  1.92093323e-08 -9.42334025e+00]]\n",
      "Validação:\n",
      " True\n",
      "Matriz Q * R:\n",
      " [[ 1.99999713  6.99999631  8.99999448  9.99999422]\n",
      " [13.99999868  4.9999996   3.00000047 14.99999838]\n",
      " [10.99999929  7.99999834 15.99999674 11.99999771]\n",
      " [ 3.99999971  0.99999968  5.99999937 12.99999965]]\n"
     ]
    }
   ],
   "source": [
    "Q = identity(l)\n",
    "R = A.astype(np.float32)\n",
    "for i in range(min(l, c)):\n",
    "    Q, R = it_qr_hh(Q, R, i, l)\n",
    "\n",
    "print('Matriz Q:\\n', Q)\n",
    "print('Matriz R:\\n', R)\n",
    "print('Validação:\\n', np.allclose(A, np.dot(Q, R)))\n",
    "print('Matriz Q * R:\\n', np.dot(Q, R))"
   ]
  },
  {
   "cell_type": "markdown",
   "metadata": {},
   "source": [
    "### Usando função do numpy para comparação"
   ]
  },
  {
   "cell_type": "code",
   "execution_count": 5,
   "metadata": {},
   "outputs": [
    {
     "data": {
      "text/plain": [
       "True"
      ]
     },
     "execution_count": 5,
     "metadata": {},
     "output_type": "execute_result"
    }
   ],
   "source": [
    "q, r = np.linalg.qr(A)\n",
    "np.allclose(A, np.dot(q, r))"
   ]
  },
  {
   "cell_type": "code",
   "execution_count": 6,
   "metadata": {},
   "outputs": [
    {
     "name": "stdout",
     "output_type": "stream",
     "text": [
      "Matriz q:\n",
      " [[-0.10894694  0.86793062  0.28657306  0.39077216]\n",
      " [-0.76262859 -0.3368799   0.53285001  0.14484621]\n",
      " [-0.59920818  0.32866331 -0.5070476  -0.52519778]\n",
      " [-0.21789388 -0.15870978 -0.61388067  0.74194608]]\n",
      "Matriz r:\n",
      " [[-18.35755975  -9.58733091 -14.16310248 -22.55201702]\n",
      " [  0.           6.8617116   11.10709023   5.50684033]\n",
      " [  0.           0.          -7.61833806  -3.20653917]\n",
      " [  0.           0.           0.           9.4233404 ]]\n"
     ]
    }
   ],
   "source": [
    "print('Matriz q:\\n', q)\n",
    "print('Matriz r:\\n', r)"
   ]
  }
 ],
 "metadata": {
  "kernelspec": {
   "display_name": "Python 3",
   "language": "python",
   "name": "python3"
  },
  "language_info": {
   "codemirror_mode": {
    "name": "ipython",
    "version": 3
   },
   "file_extension": ".py",
   "mimetype": "text/x-python",
   "name": "python",
   "nbconvert_exporter": "python",
   "pygments_lexer": "ipython3",
   "version": "3.6.5"
  }
 },
 "nbformat": 4,
 "nbformat_minor": 2
}
