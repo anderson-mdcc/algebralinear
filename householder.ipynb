{
 "cells": [
  {
   "cell_type": "markdown",
   "metadata": {},
   "source": [
    "# HouseHolder"
   ]
  },
  {
   "cell_type": "code",
   "execution_count": 1,
   "metadata": {},
   "outputs": [],
   "source": [
    "# imports\n",
    "import numpy as np\n",
    "from numpy import dot,diagonal,outer,identity,matmul,transpose,zeros_like\n",
    "from math import sqrt"
   ]
  },
  {
   "cell_type": "code",
   "execution_count": 2,
   "metadata": {},
   "outputs": [],
   "source": [
    "def norma(x):\n",
    "    return np.sqrt(np.sum(np.square(x)))\n",
    "\n",
    "# converter array 1d para vetor de coluna\n",
    "def conv_col(x):\n",
    "    x.shape = (1, x.shape[0])\n",
    "    return x\n",
    "\n",
    "# matriz HH para vetor v\n",
    "def HH(v):\n",
    "    tam_de_v = v.shape[1]\n",
    "    e1 = zeros_like(v)\n",
    "    e1[0, 0] = 1\n",
    "    vector = norma(v) * e1\n",
    "    if v[0, 0] < 0:\n",
    "        vector = - vector\n",
    "    u = (v + vector).astype(np.float32)\n",
    "    H = identity(tam_de_v) - ((2 * matmul(np.transpose(u), u)) / matmul(u, transpose(u)))\n",
    "    return H\n",
    "\n",
    "def it_qr_hh(q, r, iter, n):\n",
    "    v = conv_col(r[iter:, iter])\n",
    "    Hbar = HH(v)\n",
    "    H = identity(n)\n",
    "    H[iter:, iter:] = Hbar\n",
    "    r = matmul(H, r)\n",
    "    q = matmul(q, H)\n",
    "    return q, r"
   ]
  },
  {
   "cell_type": "code",
   "execution_count": 3,
   "metadata": {},
   "outputs": [
    {
     "name": "stdout",
     "output_type": "stream",
     "text": [
      "[[3 4]\n",
      " [2 1]]\n",
      "[[3 2]]\n",
      "[4 1]\n"
     ]
    }
   ],
   "source": [
    "# gerar matrizes aleatoriamente\n",
    "# fixar random seed\n",
    "np.random.seed(0)\n",
    "# gerar matriz a (5 x 5)\n",
    "a = np.random.permutation(4).reshape((2,2)) + 1\n",
    "print(a)\n",
    "\n",
    "#d,c = householder(a)\n",
    "#p = computeP(a)\n",
    "#print(d,c)\n",
    "\n",
    "col_0 = a[0:, 0]\n",
    "col_1 = a[0:, 1]\n",
    "\n",
    "print(conv_col(col_0))\n",
    "print(col_1)"
   ]
  },
  {
   "cell_type": "code",
   "execution_count": 4,
   "metadata": {},
   "outputs": [
    {
     "name": "stdout",
     "output_type": "stream",
     "text": [
      "Matriz A:\n",
      " [[ 2  7  9 10]\n",
      " [14  5  3 15]\n",
      " [11  8 16 12]\n",
      " [ 4  1  6 13]]\n",
      "Matriz R:\n",
      " [[-1.83575588e+01 -9.58732967e+00 -1.41631010e+01 -2.25520149e+01]\n",
      " [-1.84300000e-07  6.86171030e+00  1.11070880e+01  5.50683885e+00]\n",
      " [ 8.03000000e-08  2.14300000e-07 -7.61833721e+00 -3.20653906e+00]\n",
      " [ 7.75000000e-08  1.35100000e-07  1.92000000e-08 -9.42334025e+00]]\n",
      "Matriz Q:\n",
      " [[-0.108947  0.86793   0.286573 -0.390772]\n",
      " [-0.762629 -0.33688   0.53285  -0.144846]\n",
      " [-0.599208  0.328663 -0.507048  0.525198]\n",
      " [-0.217894 -0.15871  -0.613881 -0.741946]]\n"
     ]
    }
   ],
   "source": [
    "# dimensao da matriz\n",
    "n, m = (4,4)\n",
    "np.random.seed(0)\n",
    "A = np.random.permutation(n*m).reshape((n,m)) + 1\n",
    "\n",
    "print('Matriz A:\\n', A)\n",
    "Q = identity(n)\n",
    "R = A.astype(np.float32)\n",
    "for i in range(min(n, m)):\n",
    "    # para cada iteracao, matriz H pe calculada para linha (i+1)\n",
    "    Q, R = it_qr_hh(Q, R, i, n)\n",
    "\n",
    "min_dim = min(m, n)\n",
    "R = np.around(R, decimals=10)\n",
    "R = R[:min_dim, :min_dim]\n",
    "Q = np.around(Q, decimals=6)\n",
    "print('Matriz R:\\n', R)\n",
    "print('Matriz Q:\\n', Q)"
   ]
  },
  {
   "cell_type": "code",
   "execution_count": null,
   "metadata": {},
   "outputs": [],
   "source": []
  }
 ],
 "metadata": {
  "kernelspec": {
   "display_name": "Python 3",
   "language": "python",
   "name": "python3"
  },
  "language_info": {
   "codemirror_mode": {
    "name": "ipython",
    "version": 3
   },
   "file_extension": ".py",
   "mimetype": "text/x-python",
   "name": "python",
   "nbconvert_exporter": "python",
   "pygments_lexer": "ipython3",
   "version": "3.7.3"
  }
 },
 "nbformat": 4,
 "nbformat_minor": 2
}
