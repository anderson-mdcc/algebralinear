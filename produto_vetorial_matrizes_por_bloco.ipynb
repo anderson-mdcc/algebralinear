{
 "cells": [
  {
   "cell_type": "code",
   "execution_count": 1,
   "metadata": {},
   "outputs": [],
   "source": [
    "import numpy as np"
   ]
  },
  {
   "cell_type": "code",
   "execution_count": 2,
   "metadata": {},
   "outputs": [
    {
     "name": "stdout",
     "output_type": "stream",
     "text": [
      "[[ 6. 19. 15. 20.]\n",
      " [ 4.  3. 18.  1.]\n",
      " [ 2. 11.  2.  8.]\n",
      " [13.  9.  1.  4.]\n",
      " [ 9.  1.  6. 19.]\n",
      " [ 6.  5.  8. 17.]]\n"
     ]
    }
   ],
   "source": [
    "np.random.seed(31)\n",
    "A = (np.random.rand(6,4) * 20).round()\n",
    "print(A)"
   ]
  },
  {
   "cell_type": "code",
   "execution_count": 3,
   "metadata": {},
   "outputs": [
    {
     "name": "stdout",
     "output_type": "stream",
     "text": [
      "[[10.]\n",
      " [ 5.]\n",
      " [ 7.]\n",
      " [19.]]\n"
     ]
    }
   ],
   "source": [
    "V = (np.random.rand(4,1) * 20).round()\n",
    "print(V)"
   ]
  },
  {
   "cell_type": "markdown",
   "metadata": {},
   "source": [
    "# Resultado via Numpy (para comparação)"
   ]
  },
  {
   "cell_type": "code",
   "execution_count": 4,
   "metadata": {},
   "outputs": [
    {
     "name": "stdout",
     "output_type": "stream",
     "text": [
      "[[640.]\n",
      " [200.]\n",
      " [241.]\n",
      " [258.]\n",
      " [498.]\n",
      " [464.]]\n"
     ]
    }
   ],
   "source": [
    "print(A.dot(V))"
   ]
  },
  {
   "cell_type": "markdown",
   "metadata": {},
   "source": [
    "# Exemplo calculando em blocos de 2x2"
   ]
  },
  {
   "cell_type": "code",
   "execution_count": 5,
   "metadata": {},
   "outputs": [
    {
     "name": "stdout",
     "output_type": "stream",
     "text": [
      "Inicial:\n",
      " [[0. 0. 0. 0. 0. 0.]] \n",
      "==============\n",
      "\n",
      "Bloco A( 0 , 0 ) a A( 2 , 2 )\n",
      " [[ 6. 19.]\n",
      " [ 4.  3.]]  *  [[10.  5.]] \n",
      "Preliminar:\n",
      "Multiplicação do bloco: => [[155.  55.]]\n",
      "Vetor atual =>  [[155.  55.   0.   0.   0.   0.]] \n",
      "------\n",
      "\n",
      "Bloco A( 0 , 2 ) a A( 2 , 4 )\n",
      " [[15. 20.]\n",
      " [18.  1.]]  *  [[ 7. 19.]] \n",
      "Preliminar:\n",
      "Multiplicação do bloco: => [[485. 145.]]\n",
      "Vetor atual =>  [[640. 200.   0.   0.   0.   0.]] \n",
      "------\n",
      "\n",
      "Bloco A( 2 , 0 ) a A( 4 , 2 )\n",
      " [[ 2. 11.]\n",
      " [13.  9.]]  *  [[10.  5.]] \n",
      "Preliminar:\n",
      "Multiplicação do bloco: => [[ 75. 175.]]\n",
      "Vetor atual =>  [[640. 200.  75. 175.   0.   0.]] \n",
      "------\n",
      "\n",
      "Bloco A( 2 , 2 ) a A( 4 , 4 )\n",
      " [[2. 8.]\n",
      " [1. 4.]]  *  [[ 7. 19.]] \n",
      "Preliminar:\n",
      "Multiplicação do bloco: => [[166.  83.]]\n",
      "Vetor atual =>  [[640. 200. 241. 258.   0.   0.]] \n",
      "------\n",
      "\n",
      "Bloco A( 4 , 0 ) a A( 6 , 2 )\n",
      " [[9. 1.]\n",
      " [6. 5.]]  *  [[10.  5.]] \n",
      "Preliminar:\n",
      "Multiplicação do bloco: => [[95. 85.]]\n",
      "Vetor atual =>  [[640. 200. 241. 258.  95.  85.]] \n",
      "------\n",
      "\n",
      "Bloco A( 4 , 2 ) a A( 6 , 4 )\n",
      " [[ 6. 19.]\n",
      " [ 8. 17.]]  *  [[ 7. 19.]] \n",
      "Preliminar:\n",
      "Multiplicação do bloco: => [[403. 379.]]\n",
      "Vetor atual =>  [[640. 200. 241. 258. 498. 464.]] \n",
      "------\n",
      "\n",
      "Final:\n",
      " [[640.]\n",
      " [200.]\n",
      " [241.]\n",
      " [258.]\n",
      " [498.]\n",
      " [464.]]\n"
     ]
    }
   ],
   "source": [
    "tam_blocos = 2\n",
    "res = np.zeros((np.shape(A)[0],1))\n",
    "print('Inicial:\\n', res.T, '\\n==============\\n')\n",
    "for l in range(0, np.shape(A)[0], tam_blocos):\n",
    "    for c in range(0, np.shape(A)[1], tam_blocos):\n",
    "        subm = A[l:l+tam_blocos,c:c+tam_blocos]\n",
    "        subv = V[c:c+tam_blocos]\n",
    "        print('Bloco A(', l, ',', c, ') a A(', l+tam_blocos, ',', c+tam_blocos,')\\n', subm, ' * ', subv.T, '\\nPreliminar:')\n",
    "        print('Multiplicação do bloco: =>',subm.dot(subv).T)\n",
    "        res[l:l+tam_blocos] += subm.dot(subv)\n",
    "        print('Vetor atual => ', res.T, '\\n------\\n')\n",
    "\n",
    "print('Final:\\n', res)"
   ]
  }
 ],
 "metadata": {
  "kernelspec": {
   "display_name": "Python 3",
   "language": "python",
   "name": "python3"
  },
  "language_info": {
   "codemirror_mode": {
    "name": "ipython",
    "version": 3
   },
   "file_extension": ".py",
   "mimetype": "text/x-python",
   "name": "python",
   "nbconvert_exporter": "python",
   "pygments_lexer": "ipython3",
   "version": "3.7.3"
  }
 },
 "nbformat": 4,
 "nbformat_minor": 2
}
