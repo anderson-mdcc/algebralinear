{
 "cells": [
  {
   "cell_type": "markdown",
   "metadata": {},
   "source": [
    "# Método Gauss-Jordan"
   ]
  },
  {
   "cell_type": "code",
   "execution_count": 163,
   "metadata": {},
   "outputs": [],
   "source": [
    "# imports\n",
    "import numpy as np\n",
    "from copy import deepcopy"
   ]
  },
  {
   "cell_type": "code",
   "execution_count": 164,
   "metadata": {},
   "outputs": [],
   "source": [
    "class Pivotacao(object):\n",
    "    def __init__(self, a, b):\n",
    "        self.a = a\n",
    "        self.b = b\n",
    "        # Linha e coluna onde se encontram o pivo\n",
    "        self.lPivo = 0\n",
    "        self.cPivo = 0\n",
    "    \n",
    "    def imprimeMatriz(self, msg):\n",
    "      print(msg)\n",
    "      for l in range(0, len(self.a)):\n",
    "          print('[', end='')\n",
    "          for c in range(0, len(self.a)):\n",
    "              print(self.a[l][c], end=' ')\n",
    "          print(']', end=' ')\n",
    "          print('[', self.b[l][0], ']')\n",
    "      print(\"*\"*49, '\\n')\n",
    "\n",
    "    \n",
    "    def checaColuna(self, elem):\n",
    "      if elem != 0:\n",
    "        return False \n",
    "      return True\n",
    "\n",
    "    def mudaLinhas(self, linhamaiorCoeficiente):\n",
    "      linhaAtual = []\n",
    "      for c in range (len(self.a[0])):\n",
    "          linhaAtual.append(self.a[self.lPivo][c])\n",
    "          self.a[self.lPivo][c] = self.a[linhamaiorCoeficiente][c]\n",
    "      self.a[linhamaiorCoeficiente] = linhaAtual\n",
    "      linhaAtual = []\n",
    "      linhaAtual.append(self.b[self.lPivo][0])\n",
    "      self.b[self.lPivo][0] = self.b[linhamaiorCoeficiente][0]\n",
    "      self.b[linhamaiorCoeficiente] = linhaAtual\n",
    "    \n",
    "    def mudaValores(self):\n",
    "      # Normalizando o pivô\n",
    "      normalizador = deepcopy(self.a[self.lPivo][self.cPivo])\n",
    "      for c in range (len(self.a[0])):\n",
    "          self.a[self.lPivo][c] = self.a[self.lPivo][c]/normalizador\n",
    "      self.b[self.lPivo][0] = self.b[self.lPivo][0]/normalizador\n",
    "      self.imprimeMatriz(\"Matriz normalizada\")\n",
    "    \n",
    "      matrizAuxA = np.copy(self.a)\n",
    "      matrizAuxB = np.copy(self.b)\n",
    "      \n",
    "      for l in range(len(self.a)):\n",
    "        if l == self.lPivo:\n",
    "            continue\n",
    "        for c in range (len(self.a[0])):\n",
    "            matrizAuxA[l][c] = self.a[l][c] - (self.a[l][self.cPivo] * self.a[self.lPivo][c])\n",
    "        #Mudando os valores de b\n",
    "        matrizAuxB[l][0] = self.b[l][0] - (self.a[l][self.cPivo] * self.b[self.lPivo][0])\n",
    "      self.a = matrizAuxA\n",
    "      self.b = matrizAuxB\n",
    "\n",
    "    def iniciaPivoteamento(self):\n",
    "        for c in range (len(self.a[0])):\n",
    "          isZerado = True\n",
    "          linhamaiorCoeficiente = 0\n",
    "          for l in range(len(self.a)):\n",
    "            if self.a[linhamaiorCoeficiente][c] < self.a[l][c]:\n",
    "              linhamaiorCoeficiente = l\n",
    "            # Checando se os elementos da colunas estão zerados\n",
    "            if l != self.lPivo:\n",
    "                isZerado = self.checaColuna(self.a[l][c])\n",
    "          \n",
    "          if not isZerado:\n",
    "            # Precisa zerar\n",
    "            self.mudaLinhas(linhamaiorCoeficiente)\n",
    "            self.imprimeMatriz(\"Matriz pivoteada\")\n",
    "            self.mudaValores()\n",
    "            self.imprimeMatriz(\"Matriz valores mudados\")\n",
    "          self.lPivo += 1\n",
    "          self.cPivo += 1\n",
    "  \n",
    "    def resolveSistemaLinear(self):\n",
    "      a_inversa = np.linalg.inv(self.a)\n",
    "#       res = np.dot(a_inversa, b)\n",
    "      res = np.linalg.solve(self.a, self.b)\n",
    "      print(\"*\"*15, \"Resultado Final\", \"*\"*15)\n",
    "      print(\"\\nx1 = \", res[0][0])\n",
    "      print(\"\\nx2 = \", res[1][0])\n",
    "      print(\"\\nx3 = \", res[2][0])\n"
   ]
  },
  {
   "cell_type": "code",
   "execution_count": 165,
   "metadata": {},
   "outputs": [
    {
     "name": "stdout",
     "output_type": "stream",
     "text": [
      "*************** Pivotação Parcial ***************\n",
      "Matriz Original\n",
      "[3.0 1.5 4.75 ] [ 8.0 ]\n",
      "[4.0 2.0 3.0 ] [ 7.0 ]\n",
      "[2.0 5.0 3.0 ] [ -12.0 ]\n",
      "************************************************* \n",
      "\n"
     ]
    }
   ],
   "source": [
    "print(\"*\"*15, \"Pivotação Parcial\", \"*\"*15)\n",
    "\n",
    "a = np.array([[3.0, 1.5, 4.75], [4.0, 2.0, 3.0], [2.0, 5.0, 3.0]])\n",
    "b = np.array([[8.0], [7.0], [-12.0]])\n",
    "    \n",
    "p = Pivotacao(a, b)\n",
    "p.imprimeMatriz(\"Matriz Original\")"
   ]
  },
  {
   "cell_type": "code",
   "execution_count": 166,
   "metadata": {},
   "outputs": [
    {
     "name": "stdout",
     "output_type": "stream",
     "text": [
      "Matriz pivoteada\n",
      "[4.0 2.0 3.0 ] [ 7.0 ]\n",
      "[3.0 1.5 4.75 ] [ 8.0 ]\n",
      "[2.0 5.0 3.0 ] [ -12.0 ]\n",
      "************************************************* \n",
      "\n",
      "Matriz normalizada\n",
      "[1.0 0.5 0.75 ] [ 1.75 ]\n",
      "[3.0 1.5 4.75 ] [ 8.0 ]\n",
      "[2.0 5.0 3.0 ] [ -12.0 ]\n",
      "************************************************* \n",
      "\n",
      "Matriz valores mudados\n",
      "[1.0 0.5 0.75 ] [ 1.75 ]\n",
      "[0.0 0.0 2.5 ] [ 2.75 ]\n",
      "[0.0 4.0 1.5 ] [ -15.5 ]\n",
      "************************************************* \n",
      "\n",
      "Matriz pivoteada\n",
      "[1.0 0.5 0.75 ] [ 1.75 ]\n",
      "[0.0 4.0 1.5 ] [ -15.5 ]\n",
      "[0.0 0.0 2.5 ] [ 2.75 ]\n",
      "************************************************* \n",
      "\n",
      "Matriz normalizada\n",
      "[1.0 0.5 0.75 ] [ 1.75 ]\n",
      "[0.0 1.0 0.375 ] [ -3.875 ]\n",
      "[0.0 0.0 2.5 ] [ 2.75 ]\n",
      "************************************************* \n",
      "\n",
      "Matriz valores mudados\n",
      "[1.0 0.0 0.5625 ] [ 3.6875 ]\n",
      "[0.0 1.0 0.375 ] [ -3.875 ]\n",
      "[0.0 0.0 2.5 ] [ 2.75 ]\n",
      "************************************************* \n",
      "\n",
      "Matriz pivoteada\n",
      "[1.0 0.0 0.5625 ] [ 3.6875 ]\n",
      "[0.0 1.0 0.375 ] [ -3.875 ]\n",
      "[0.0 0.0 2.5 ] [ 2.75 ]\n",
      "************************************************* \n",
      "\n",
      "Matriz normalizada\n",
      "[1.0 0.0 0.5625 ] [ 3.6875 ]\n",
      "[0.0 1.0 0.375 ] [ -3.875 ]\n",
      "[0.0 0.0 1.0 ] [ 1.1 ]\n",
      "************************************************* \n",
      "\n",
      "Matriz valores mudados\n",
      "[1.0 0.0 0.0 ] [ 3.06875 ]\n",
      "[0.0 1.0 0.0 ] [ -4.2875 ]\n",
      "[0.0 0.0 1.0 ] [ 1.1 ]\n",
      "************************************************* \n",
      "\n"
     ]
    }
   ],
   "source": [
    "p.iniciaPivoteamento()"
   ]
  },
  {
   "cell_type": "code",
   "execution_count": 167,
   "metadata": {},
   "outputs": [
    {
     "name": "stdout",
     "output_type": "stream",
     "text": [
      "*************** Resultado Final ***************\n",
      "\n",
      "x1 =  3.06875\n",
      "\n",
      "x2 =  -4.2875\n",
      "\n",
      "x3 =  1.1\n"
     ]
    }
   ],
   "source": [
    "p.resolveSistemaLinear()"
   ]
  },
  {
   "cell_type": "code",
   "execution_count": null,
   "metadata": {},
   "outputs": [],
   "source": []
  }
 ],
 "metadata": {
  "kernelspec": {
   "display_name": "Python 3",
   "language": "python",
   "name": "python3"
  },
  "language_info": {
   "codemirror_mode": {
    "name": "ipython",
    "version": 3
   },
   "file_extension": ".py",
   "mimetype": "text/x-python",
   "name": "python",
   "nbconvert_exporter": "python",
   "pygments_lexer": "ipython3",
   "version": "3.7.3"
  }
 },
 "nbformat": 4,
 "nbformat_minor": 2
}
