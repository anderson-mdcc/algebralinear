{
 "cells": [
  {
   "cell_type": "markdown",
   "metadata": {},
   "source": [
    "# Matriz Inversa"
   ]
  },
  {
   "cell_type": "code",
   "execution_count": 131,
   "metadata": {},
   "outputs": [],
   "source": [
    "# imports\n",
    "import numpy as np\n",
    "from copy import deepcopy"
   ]
  },
  {
   "cell_type": "code",
   "execution_count": 132,
   "metadata": {},
   "outputs": [],
   "source": [
    "class Pivotacao(object):\n",
    "    def __init__(self, a, b):\n",
    "        self.a = a\n",
    "        self.b = b\n",
    "        self.identidade = None\n",
    "        # Linha e coluna onde se encontram o pivo\n",
    "        self.lPivo = 0\n",
    "        self.cPivo = 0\n",
    "            \n",
    "    def imprimeMatriz(self, msg, a, b):\n",
    "      print(msg)\n",
    "      for l in range(0, len(a)):\n",
    "          print('[', end='')\n",
    "          for c in range(0, len(a[0])):\n",
    "              print(a[l][c], end=' ')\n",
    "          print(']', end=' ')\n",
    "          print('[', b[l][0], ']')\n",
    "      print(\"*\"*49, '\\n')\n",
    "    \n",
    "    def checaColuna(self, elem):\n",
    "      if elem != 0:\n",
    "        return False \n",
    "      return True\n",
    "\n",
    "    def mudaLinhas(self, linhamaiorCoeficiente):\n",
    "      linhaAtual = []\n",
    "      linhaIdentAtual = []\n",
    "      for c in range (len(self.a[0])):\n",
    "          linhaAtual.append(self.a[self.lPivo][c])\n",
    "          linhaIdentAtual.append(self.identidade[self.lPivo][c])\n",
    "          self.a[self.lPivo][c] = self.a[linhamaiorCoeficiente][c]\n",
    "          self.identidade[self.lPivo][c] = self.identidade[linhamaiorCoeficiente][c]\n",
    "      self.a[linhamaiorCoeficiente] = linhaAtual\n",
    "      self.identidade[linhamaiorCoeficiente] = linhaIdentAtual\n",
    "      \n",
    "    def mudaValores(self):\n",
    "      # Normalizando o pivô\n",
    "      normalizador = deepcopy(self.a[self.lPivo][self.cPivo])\n",
    "      for c in range (len(self.a[0])):\n",
    "          self.a[self.lPivo][c] = self.a[self.lPivo][c]/normalizador\n",
    "          self.identidade[self.lPivo][c] = self.identidade[self.lPivo][c]/normalizador\n",
    "      self.imprimeMatriz(\"Matriz normalizada\",\n",
    "                         np.copy(np.concatenate((self.a, self.identidade), axis=1)), self.b)\n",
    "    \n",
    "      matrizAuxA = np.copy(self.a)\n",
    "      matrixAuxIdent = np.copy(self.identidade)\n",
    "      \n",
    "      for l in range(len(self.a)):\n",
    "        if l == self.lPivo:\n",
    "            continue\n",
    "        for c in range (len(self.a[0])):\n",
    "            matrizAuxA[l][c] = self.a[l][c] - (self.a[l][self.cPivo] * self.a[self.lPivo][c])\n",
    "            matrixAuxIdent[l][c] = self.identidade[l][c] - (self.a[l][self.cPivo] * self.identidade[self.lPivo][c])\n",
    "      self.a = matrizAuxA\n",
    "      self.identidade = matrixAuxIdent\n",
    "\n",
    "    def iniciaPivoteamento(self):\n",
    "        # Estendendo a matriz A com a matriz identidade\n",
    "        self.identidade = np.identity(len(self.a))\n",
    "        self.imprimeMatriz(\"Matriz estendida com a matriz identidade\",\n",
    "                           np.copy(np.concatenate((self.a, self.identidade), axis=1)), self.b)\n",
    "        \n",
    "        for c in range (len(self.a[0])):\n",
    "          isZerado = True\n",
    "          linhamaiorCoeficiente = 0\n",
    "          for l in range(len(self.a)):\n",
    "            if self.a[linhamaiorCoeficiente][c] < self.a[l][c]:\n",
    "              linhamaiorCoeficiente = l\n",
    "            # Checando se os elementos da colunas estão zerados\n",
    "            if l != self.lPivo:\n",
    "                isZerado = self.checaColuna(self.a[l][c])\n",
    "          \n",
    "          if not isZerado:\n",
    "            # Precisa zerar\n",
    "            self.mudaLinhas(linhamaiorCoeficiente)\n",
    "            self.imprimeMatriz(\"Matriz pivoteada\",\n",
    "                               np.copy(np.concatenate((self.a, self.identidade), axis=1)), self.b)\n",
    "            self.mudaValores()\n",
    "            self.imprimeMatriz(\"Matriz valores mudados\",\n",
    "                               np.copy(np.concatenate((self.a, self.identidade), axis=1)), self.b)\n",
    "          self.lPivo += 1\n",
    "          self.cPivo += 1\n",
    "        self.a = self.identidade\n",
    "        self.imprimeMatriz(\"Matriz inversa obtida\", self.a, self.b)\n",
    "  \n",
    "    def resolveSistemaLinear(self):\n",
    "      res = np.dot(self.a, self.b)\n",
    "      print(\"*\"*15, \"Resultado Final\", \"*\"*15)\n",
    "      print(\"\\nx1 = \", res[0][0])\n",
    "      print(\"\\nx2 = \", res[1][0])\n",
    "      print(\"\\nx3 = \", res[2][0])\n"
   ]
  },
  {
   "cell_type": "code",
   "execution_count": 133,
   "metadata": {},
   "outputs": [
    {
     "name": "stdout",
     "output_type": "stream",
     "text": [
      "*************** Pivotação Parcial ***************\n",
      "Matriz Original\n",
      "[3.0 1.5 4.75 ] [ 8.0 ]\n",
      "[4.0 2.0 3.0 ] [ 7.0 ]\n",
      "[2.0 5.0 3.0 ] [ -12.0 ]\n",
      "************************************************* \n",
      "\n"
     ]
    }
   ],
   "source": [
    "print(\"*\"*15, \"Pivotação Parcial\", \"*\"*15)\n",
    "\n",
    "a = np.array([[3.0, 1.5, 4.75], [4.0, 2.0, 3.0], [2.0, 5.0, 3.0]])\n",
    "b = np.array([[8.0], [7.0], [-12.0]])\n",
    "    \n",
    "p = Pivotacao(a, b)\n",
    "p.imprimeMatriz(\"Matriz Original\", p.a, p.b)"
   ]
  },
  {
   "cell_type": "code",
   "execution_count": 134,
   "metadata": {},
   "outputs": [
    {
     "name": "stdout",
     "output_type": "stream",
     "text": [
      "Matriz estendida com a matriz identidade\n",
      "[3.0 1.5 4.75 1.0 0.0 0.0 ] [ 8.0 ]\n",
      "[4.0 2.0 3.0 0.0 1.0 0.0 ] [ 7.0 ]\n",
      "[2.0 5.0 3.0 0.0 0.0 1.0 ] [ -12.0 ]\n",
      "************************************************* \n",
      "\n",
      "Matriz pivoteada\n",
      "[4.0 2.0 3.0 0.0 1.0 0.0 ] [ 8.0 ]\n",
      "[3.0 1.5 4.75 1.0 0.0 0.0 ] [ 7.0 ]\n",
      "[2.0 5.0 3.0 0.0 0.0 1.0 ] [ -12.0 ]\n",
      "************************************************* \n",
      "\n",
      "Matriz normalizada\n",
      "[1.0 0.5 0.75 0.0 0.25 0.0 ] [ 8.0 ]\n",
      "[3.0 1.5 4.75 1.0 0.0 0.0 ] [ 7.0 ]\n",
      "[2.0 5.0 3.0 0.0 0.0 1.0 ] [ -12.0 ]\n",
      "************************************************* \n",
      "\n",
      "Matriz valores mudados\n",
      "[1.0 0.5 0.75 0.0 0.25 0.0 ] [ 8.0 ]\n",
      "[0.0 0.0 2.5 1.0 -0.75 0.0 ] [ 7.0 ]\n",
      "[0.0 4.0 1.5 0.0 -0.5 1.0 ] [ -12.0 ]\n",
      "************************************************* \n",
      "\n",
      "Matriz pivoteada\n",
      "[1.0 0.5 0.75 0.0 0.25 0.0 ] [ 8.0 ]\n",
      "[0.0 4.0 1.5 0.0 -0.5 1.0 ] [ 7.0 ]\n",
      "[0.0 0.0 2.5 1.0 -0.75 0.0 ] [ -12.0 ]\n",
      "************************************************* \n",
      "\n",
      "Matriz normalizada\n",
      "[1.0 0.5 0.75 0.0 0.25 0.0 ] [ 8.0 ]\n",
      "[0.0 1.0 0.375 0.0 -0.125 0.25 ] [ 7.0 ]\n",
      "[0.0 0.0 2.5 1.0 -0.75 0.0 ] [ -12.0 ]\n",
      "************************************************* \n",
      "\n",
      "Matriz valores mudados\n",
      "[1.0 0.0 0.5625 0.0 0.3125 -0.125 ] [ 8.0 ]\n",
      "[0.0 1.0 0.375 0.0 -0.125 0.25 ] [ 7.0 ]\n",
      "[0.0 0.0 2.5 1.0 -0.75 0.0 ] [ -12.0 ]\n",
      "************************************************* \n",
      "\n",
      "Matriz pivoteada\n",
      "[1.0 0.0 0.5625 0.0 0.3125 -0.125 ] [ 8.0 ]\n",
      "[0.0 1.0 0.375 0.0 -0.125 0.25 ] [ 7.0 ]\n",
      "[0.0 0.0 2.5 1.0 -0.75 0.0 ] [ -12.0 ]\n",
      "************************************************* \n",
      "\n",
      "Matriz normalizada\n",
      "[1.0 0.0 0.5625 0.0 0.3125 -0.125 ] [ 8.0 ]\n",
      "[0.0 1.0 0.375 0.0 -0.125 0.25 ] [ 7.0 ]\n",
      "[0.0 0.0 1.0 0.4 -0.3 0.0 ] [ -12.0 ]\n",
      "************************************************* \n",
      "\n",
      "Matriz valores mudados\n",
      "[1.0 0.0 0.0 -0.225 0.48124999999999996 -0.125 ] [ 8.0 ]\n",
      "[0.0 1.0 0.0 -0.15000000000000002 -0.012500000000000011 0.25 ] [ 7.0 ]\n",
      "[0.0 0.0 1.0 0.4 -0.3 0.0 ] [ -12.0 ]\n",
      "************************************************* \n",
      "\n",
      "Matriz inversa obtida\n",
      "[-0.225 0.48124999999999996 -0.125 ] [ 8.0 ]\n",
      "[-0.15000000000000002 -0.012500000000000011 0.25 ] [ 7.0 ]\n",
      "[0.4 -0.3 0.0 ] [ -12.0 ]\n",
      "************************************************* \n",
      "\n"
     ]
    }
   ],
   "source": [
    "p.iniciaPivoteamento()"
   ]
  },
  {
   "cell_type": "code",
   "execution_count": 135,
   "metadata": {},
   "outputs": [
    {
     "name": "stdout",
     "output_type": "stream",
     "text": [
      "*************** Resultado Final ***************\n",
      "\n",
      "x1 =  3.0687499999999996\n",
      "\n",
      "x2 =  -4.2875000000000005\n",
      "\n",
      "x3 =  1.1\n"
     ]
    }
   ],
   "source": [
    "p.resolveSistemaLinear()"
   ]
  },
  {
   "cell_type": "code",
   "execution_count": null,
   "metadata": {},
   "outputs": [],
   "source": []
  }
 ],
 "metadata": {
  "kernelspec": {
   "display_name": "Python 3",
   "language": "python",
   "name": "python3"
  },
  "language_info": {
   "codemirror_mode": {
    "name": "ipython",
    "version": 3
   },
   "file_extension": ".py",
   "mimetype": "text/x-python",
   "name": "python",
   "nbconvert_exporter": "python",
   "pygments_lexer": "ipython3",
   "version": "3.7.3"
  }
 },
 "nbformat": 4,
 "nbformat_minor": 2
}
