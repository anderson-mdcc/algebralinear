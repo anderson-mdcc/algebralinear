{
 "cells": [
  {
   "cell_type": "code",
   "execution_count": 1,
   "metadata": {},
   "outputs": [
    {
     "name": "stdout",
     "output_type": "stream",
     "text": [
      "Matriz A:\n",
      " [[ 2  7  9 10]\n",
      " [14  5  3 15]\n",
      " [11  8 16 12]\n",
      " [ 4  1  6 13]] \n",
      "\n",
      "a1:\n",
      " [[ 2]\n",
      " [14]\n",
      " [11]\n",
      " [ 4]] \n",
      "\n",
      "norma(a1):\n",
      " 18.35755975068582 \n",
      "\n",
      " [[-16.35755975]\n",
      " [ 14.        ]\n",
      " [ 11.        ]\n",
      " [  4.        ]] \n",
      "\n",
      "identidade:\n",
      " [[1. 0. 0. 0.]\n",
      " [0. 1. 0. 0.]\n",
      " [0. 0. 1. 0.]\n",
      " [0. 0. 0. 1.]] \n",
      "\n",
      "H1:\n",
      " [[ 0.10894694  0.76262859  0.59920818  0.21789388]\n",
      " [ 0.76262859  0.34728648 -0.51284633 -0.18648958]\n",
      " [ 0.59920818 -0.51284633  0.59704931 -0.14652752]\n",
      " [ 0.21789388 -0.18648958 -0.14652752  0.94671726]] \n",
      "\n",
      "A2:\n",
      " [[18.35755975  9.58733091 14.16310248 22.55201702]\n",
      " [-0.          2.78557234 -1.41896198  4.25706273]\n",
      " [-0.          6.26009255 12.52795844  3.55912071]\n",
      " [ 0.          0.36730638  4.73743943  9.93058935]] \n",
      "\n"
     ]
    }
   ],
   "source": [
    "# imports\n",
    "import numpy as np\n",
    "from numpy import dot,diagonal,outer,identity,matmul,transpose,zeros_like,sign\n",
    "from math import sqrt\n",
    "norma = lambda x : np.sqrt(np.sum(np.square(x)))\n",
    "\n",
    "# converter array 1d para vetor de coluna\n",
    "def conv_col(x):\n",
    "    x.shape = (1, x.shape[0])\n",
    "    return x\n",
    "\n",
    "# dimensao da matriz\n",
    "l, c = (4,4)\n",
    "np.random.seed(0)\n",
    "A = np.random.permutation(l*c).reshape((l,c)) + 1\n",
    "\n",
    "print('Matriz A:\\n', A, '\\n')\n",
    "\n",
    "a1 = conv_col(A[:,0]).T\n",
    "n_a1 = norma(a1)\n",
    "e1 = zeros_like(a1)\n",
    "e1[0,0] = 1\n",
    "sign_a11 = sign(a1[0])\n",
    "v1 = a1 - (sign_a11 * n_a1 * e1)\n",
    "\n",
    "print('a1:\\n', a1, '\\n')\n",
    "print('norma(a1):\\n', n_a1, '\\n')\n",
    "print('', v1, '\\n')\n",
    "\n",
    "i1 = identity(A.shape[1])\n",
    "\n",
    "print('identidade:\\n', i1, '\\n')\n",
    "\n",
    "H1 = i1 - 2 * (v1.dot(v1.T)) / (v1.T.dot(v1))\n",
    "print('H1:\\n', H1, '\\n')\n",
    "\n",
    "A2 = H1.dot(A)\n",
    "print('A2:\\n', np.around(A2, decimals=10), '\\n')"
   ]
  },
  {
   "cell_type": "markdown",
   "metadata": {},
   "source": [
    "Segue proxima iteracao onde era A1 agora é A2, até o a terceira iteracao, quando tiver H1 + H2 + H3\n",
    "\n",
    "R = H3 * H2 * H1 * A\n",
    "\n",
    "Q = H1 * H2 * H3\n",
    "\n",
    "Referencias: https://atozmath.com/MatrixEv.aspx?q=qrdecomphh&q1=2%2c7%2c9%2c10%3b14%2c5%2c3%2c15%3b11%2c8%2c16%2c12%3b4%2c1%2c6%2c13%60qrdecomphh&dm=F&dp=8&do=1#PrevPart"
   ]
  }
 ],
 "metadata": {
  "kernelspec": {
   "display_name": "Python 3",
   "language": "python",
   "name": "python3"
  },
  "language_info": {
   "codemirror_mode": {
    "name": "ipython",
    "version": 3
   },
   "file_extension": ".py",
   "mimetype": "text/x-python",
   "name": "python",
   "nbconvert_exporter": "python",
   "pygments_lexer": "ipython3",
   "version": "3.6.5"
  }
 },
 "nbformat": 4,
 "nbformat_minor": 2
}
