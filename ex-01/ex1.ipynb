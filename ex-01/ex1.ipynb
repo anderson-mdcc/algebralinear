{
 "cells": [
  {
   "cell_type": "markdown",
   "metadata": {},
   "source": [
    "# multiplicação de matrizes"
   ]
  },
  {
   "cell_type": "code",
   "execution_count": 11,
   "metadata": {},
   "outputs": [],
   "source": [
    "# imports\n",
    "import numpy as np"
   ]
  },
  {
   "cell_type": "markdown",
   "metadata": {},
   "source": [
    "## Matriz 1 (m1)"
   ]
  },
  {
   "cell_type": "code",
   "execution_count": 12,
   "metadata": {},
   "outputs": [
    {
     "name": "stdout",
     "output_type": "stream",
     "text": [
      "[[6 3]\n",
      " [2 4]\n",
      " [1 5]]\n"
     ]
    }
   ],
   "source": [
    "# gerar matrizes aleatoriamente\n",
    "# fixar random seed\n",
    "np.random.seed(0)\n",
    "# gerar matriz 1 (3 x 2)\n",
    "m1 = np.random.permutation(6).reshape((3,2)) + 1\n",
    "print(m1)"
   ]
  },
  {
   "cell_type": "markdown",
   "metadata": {},
   "source": [
    "## Matriz 2 (m2)"
   ]
  },
  {
   "cell_type": "code",
   "execution_count": 13,
   "metadata": {},
   "outputs": [
    {
     "name": "stdout",
     "output_type": "stream",
     "text": [
      "[[3. 1.]\n",
      " [4. 2.]]\n"
     ]
    }
   ],
   "source": [
    "# outro seed e gerar matriz 2 (2 x 2)\n",
    "np.random.seed(10)\n",
    "m2 = np.random.permutation(4).reshape((2,2)) + 1 * 3 / 5\n",
    "m2 = np.ceil(m2)\n",
    "print(m2)"
   ]
  },
  {
   "cell_type": "markdown",
   "metadata": {},
   "source": [
    "## Matriz resultado"
   ]
  },
  {
   "cell_type": "code",
   "execution_count": 14,
   "metadata": {},
   "outputs": [
    {
     "name": "stdout",
     "output_type": "stream",
     "text": [
      "[[0. 0.]\n",
      " [0. 0.]\n",
      " [0. 0.]]\n"
     ]
    }
   ],
   "source": [
    "# matriz resultante\n",
    "nels = np.shape(m1)[0] * np.shape(m2)[1]\n",
    "res = np.zeros(nels).reshape((np.shape(m1)[0],np.shape(m2)[1]))\n",
    "print(res)"
   ]
  },
  {
   "cell_type": "markdown",
   "metadata": {},
   "source": [
    "# Calcular com somatório"
   ]
  },
  {
   "cell_type": "code",
   "execution_count": 15,
   "metadata": {},
   "outputs": [
    {
     "name": "stdout",
     "output_type": "stream",
     "text": [
      "[[30. 12.]\n",
      " [22. 10.]\n",
      " [23. 11.]]\n"
     ]
    }
   ],
   "source": [
    "# iteracao linhas m1\n",
    "for l in range(0, np.shape(m1)[0]):\n",
    "    # iteracao colunas m2 (z)\n",
    "    for z in range(0, np.shape(m2)[1]):\n",
    "        soma = 0\n",
    "        for c in range(0, np.shape(m1)[1]):\n",
    "            soma = soma + (m1[l, c] * m2[c, z])\n",
    "        res[l, z] = soma\n",
    "print(res)"
   ]
  },
  {
   "cell_type": "markdown",
   "metadata": {},
   "source": [
    "# Calcular direto na matriz resultante"
   ]
  },
  {
   "cell_type": "code",
   "execution_count": 17,
   "metadata": {},
   "outputs": [
    {
     "name": "stdout",
     "output_type": "stream",
     "text": [
      "0 0\n",
      "1 0\n",
      "2 0\n",
      "0 1\n",
      "1 1\n",
      "2 1\n",
      "[[0. 0.]\n",
      " [0. 0.]\n",
      " [0. 0.]]\n"
     ]
    }
   ],
   "source": [
    "# zerar\n",
    "res = np.zeros(nels).reshape((np.shape(m1)[0],np.shape(m2)[1]))\n",
    "# iteracao colunas m1\n",
    "for c in range(0, np.shape(m1)[1]):\n",
    "    for l in range(0, np.shape(m1)[0]):\n",
    "        print(l, c)\n",
    "print(res)"
   ]
  },
  {
   "cell_type": "code",
   "execution_count": null,
   "metadata": {},
   "outputs": [],
   "source": []
  }
 ],
 "metadata": {
  "kernelspec": {
   "display_name": "Python 3",
   "language": "python",
   "name": "python3"
  },
  "language_info": {
   "codemirror_mode": {
    "name": "ipython",
    "version": 3
   },
   "file_extension": ".py",
   "mimetype": "text/x-python",
   "name": "python",
   "nbconvert_exporter": "python",
   "pygments_lexer": "ipython3",
   "version": "3.7.3"
  }
 },
 "nbformat": 4,
 "nbformat_minor": 2
}
