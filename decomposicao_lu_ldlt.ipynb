{
 "cells": [
  {
   "cell_type": "markdown",
   "metadata": {},
   "source": [
    "# Decomposição LU - LDLT"
   ]
  },
  {
   "cell_type": "code",
   "execution_count": 29,
   "metadata": {},
   "outputs": [],
   "source": [
    "# imports\n",
    "import numpy as np\n",
    "import math"
   ]
  },
  {
   "cell_type": "code",
   "execution_count": 30,
   "metadata": {},
   "outputs": [],
   "source": [
    "class Decomposicao(object):\n",
    "    def __init__(self, a, b):\n",
    "        self.a = a\n",
    "        self.b = b\n",
    "        self.tamMaxA = len(a)\n",
    "        # Gerando a matriz L zerada para melhor cálculo\n",
    "        self.l = [[0.0 for x in range(self.tamMaxA)] for y in range(self.tamMaxA)]\n",
    "        # Gerando a matriz D zerada para melhor cálculo\n",
    "        self.d = [[0.0 for x in range(self.tamMaxA)] for y in range(self.tamMaxA)]\n",
    "        # Gerando a matriz trasposta com valores inicialmente zerados para melhor cálculo\n",
    "        self.t = [[0.0 for x in range(self.tamMaxA)] for y in range(self.tamMaxA)]\n",
    "            \n",
    "    def imprimeMatriz(self, msg, a, b=[]):\n",
    "      print(msg)\n",
    "      for l in range(0, self.tamMaxA):\n",
    "          print('[', end='')\n",
    "          for c in range(0, len(a[0])):\n",
    "              print(a[l][c], end=' ')\n",
    "          \n",
    "          if len(b) != 0:\n",
    "              print(']', end=' ')\n",
    "              print('[', b[l][0], ']')\n",
    "          else:\n",
    "              print(']')\n",
    "            \n",
    "      print(\"*\"*49, '\\n')\n",
    "    \n",
    "    # Criando uma matriz triangular inferior\n",
    "    def decompoeParaLD(self):\n",
    "        # Matriz Auxiliar\n",
    "        v = [[0.0 for x in range(1)] for y in range(self.tamMaxA)]\n",
    "        \n",
    "        for i in range(self.tamMaxA):\n",
    "            # Elemento da diagonal da matriz L que será 1.0\n",
    "            self.l[i][i] = 1.0\n",
    "            \n",
    "            for j in range(i):\n",
    "                v[j] = self.l[i][j] * self.d[j][j]\n",
    "            self.d[i][i] = self.a[i][i]\n",
    "            \n",
    "            for j in range(i):\n",
    "                self.d[i][i] -= self.l[i][j] * v[j]\n",
    "            \n",
    "            for j in range(i+1, self.tamMaxA):\n",
    "                self.l[j][i] = self.a[j][i]\n",
    "                \n",
    "                for k in range(i):\n",
    "                    self.l[j][i] -= self.l[j][k] * v[k]\n",
    "                self.l[j][i] /= self.d[i][i]\n",
    "    \n",
    "    def criaTransposta(self):\n",
    "        for i in range(self.tamMaxA):\n",
    "            for j in range(self.tamMaxA):\n",
    "                self.t[j][i] = self.l[i][j]\n",
    " \n",
    "    def iniciaDecomposicao(self):\n",
    "        self.decompoeParaLD()\n",
    "        self.criaTransposta()\n",
    "        self.imprimeMatriz(\"Matriz L\", self.l)\n",
    "        self.imprimeMatriz(\"Matriz D\", self.d)\n",
    "        self.imprimeMatriz(\"Matriz Transposta de L\", self.t)\n",
    "  \n",
    "    def resolveSistemaLinear(self):\n",
    "        # Tal matriz A=LDLT\n",
    "        # A=L(D)^0.5(D)^0.5LT\n",
    "        # Tenho matriz L(D)^0.5*y=b\n",
    "        # E tenho matriz (D)^0.5LT*x=y\n",
    "        aux = np.dot(self.l, np.power(self.d, 0.5))\n",
    "        y = np.linalg.solve(aux, self.b)\n",
    "        print(\"*\"*15, \"Resultante Y encontrada\", \"*\"*15)\n",
    "        print(\"\\ny1 = \", y[0][0])\n",
    "        print(\"\\ny2 = \", y[1][0])\n",
    "        print(\"\\ny3 = \", y[2][0])\n",
    "        aux = np.dot(np.power(self.d, 0.5), self.t)\n",
    "        x = np.linalg.solve(aux, y)\n",
    "        print(\"*\"*15, \"Resultado Final\", \"*\"*15)\n",
    "        print(\"\\nx1 = \", x[0][0])\n",
    "        print(\"\\nx2 = \", x[1][0])\n",
    "        print(\"\\nx3 = \", x[2][0])\n"
   ]
  },
  {
   "cell_type": "code",
   "execution_count": 31,
   "metadata": {},
   "outputs": [
    {
     "name": "stdout",
     "output_type": "stream",
     "text": [
      "*************** Decomposicao LU - LDLT ***************\n",
      "Matriz Original\n",
      "[4.0 12.0 -16.0 ] [ 1.0 ]\n",
      "[12.0 37.0 -43.0 ] [ 2.0 ]\n",
      "[-16.0 -43.0 98.0 ] [ 3.0 ]\n",
      "************************************************* \n",
      "\n"
     ]
    }
   ],
   "source": [
    "print(\"*\"*15, \"Decomposicao LU - LDLT\", \"*\"*15)\n",
    "\n",
    "a = np.array([[4.0, 12.0, -16.0], [12.0, 37.0, -43.0], [-16.0, -43.0, 98.0]])\n",
    "b = np.array([[1.0], [2.0], [3.0]])\n",
    "    \n",
    "d = Decomposicao(a, b)\n",
    "d.imprimeMatriz(\"Matriz Original\", d.a, d.b)"
   ]
  },
  {
   "cell_type": "code",
   "execution_count": 32,
   "metadata": {},
   "outputs": [
    {
     "name": "stdout",
     "output_type": "stream",
     "text": [
      "Matriz L\n",
      "[1.0 0.0 0.0 ]\n",
      "[3.0 1.0 0.0 ]\n",
      "[-4.0 5.0 1.0 ]\n",
      "************************************************* \n",
      "\n",
      "Matriz D\n",
      "[4.0 0.0 0.0 ]\n",
      "[0.0 1.0 0.0 ]\n",
      "[0.0 0.0 9.0 ]\n",
      "************************************************* \n",
      "\n",
      "Matriz Transposta de L\n",
      "[1.0 3.0 -4.0 ]\n",
      "[0.0 1.0 5.0 ]\n",
      "[0.0 0.0 1.0 ]\n",
      "************************************************* \n",
      "\n"
     ]
    }
   ],
   "source": [
    "d.iniciaDecomposicao()"
   ]
  },
  {
   "cell_type": "code",
   "execution_count": 33,
   "metadata": {},
   "outputs": [
    {
     "name": "stdout",
     "output_type": "stream",
     "text": [
      "*************** Resultante Y encontrada ***************\n",
      "\n",
      "y1 =  0.5\n",
      "\n",
      "y2 =  -0.9999999999999992\n",
      "\n",
      "y3 =  3.9999999999999987\n",
      "*************** Resultado Final ***************\n",
      "\n",
      "x1 =  28.58333333333332\n",
      "\n",
      "x2 =  -7.666666666666663\n",
      "\n",
      "x3 =  1.3333333333333328\n"
     ]
    }
   ],
   "source": [
    "d.resolveSistemaLinear()"
   ]
  },
  {
   "cell_type": "code",
   "execution_count": null,
   "metadata": {},
   "outputs": [],
   "source": []
  }
 ],
 "metadata": {
  "kernelspec": {
   "display_name": "Python 3",
   "language": "python",
   "name": "python3"
  },
  "language_info": {
   "codemirror_mode": {
    "name": "ipython",
    "version": 3
   },
   "file_extension": ".py",
   "mimetype": "text/x-python",
   "name": "python",
   "nbconvert_exporter": "python",
   "pygments_lexer": "ipython3",
   "version": "3.7.3"
  }
 },
 "nbformat": 4,
 "nbformat_minor": 2
}
