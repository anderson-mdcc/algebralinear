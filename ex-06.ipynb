{
 "cells": [
  {
   "cell_type": "markdown",
   "metadata": {},
   "source": [
    "# Decomposição LU"
   ]
  },
  {
   "cell_type": "code",
   "execution_count": 94,
   "metadata": {},
   "outputs": [],
   "source": [
    "# imports\n",
    "import numpy as np\n",
    "from copy import deepcopy"
   ]
  },
  {
   "cell_type": "code",
   "execution_count": 95,
   "metadata": {},
   "outputs": [],
   "source": [
    "class Decomposicao(object):\n",
    "    def __init__(self, a, b):\n",
    "        self.a = a\n",
    "        self.b = b\n",
    "        self.tamMaxA = len(a)\n",
    "        # Gerando as matrizes LU zeradas para melhor cálculo\n",
    "        self.l = [[0.0 for x in range(self.tamMaxA)] for y in range(self.tamMaxA)] \n",
    "        self.u = [[0.0 for x in range(self.tamMaxA)] for y in range(self.tamMaxA)]\n",
    "            \n",
    "    def imprimeMatriz(self, msg, a, b=[]):\n",
    "      print(msg)\n",
    "      for l in range(0, self.tamMaxA):\n",
    "          print('[', end='')\n",
    "          for c in range(0, len(a[0])):\n",
    "              print(a[l][c], end=' ')\n",
    "          \n",
    "          if len(b) != 0:\n",
    "              print(']', end=' ')\n",
    "              print('[', b[l][0], ']')\n",
    "          else:\n",
    "              print(']')\n",
    "            \n",
    "      print(\"*\"*49, '\\n')\n",
    "    \n",
    "    # Criando uma matriz triangular Superior\n",
    "    def decompoeParaU(self, i):\n",
    "        for k in range(i, self.tamMaxA): \n",
    "            sum = 0; \n",
    "            # Se i igual a zero, não entra no for, pois U(ik) => A(ik)\n",
    "            for j in range(i):\n",
    "                sum += (self.l[i][j] * self.u[j][k])\n",
    "            \n",
    "            self.u[i][k] = self.a[i][k] - sum\n",
    "    \n",
    "    # Criando uma matriz triangular inferior com os valores da diagonal igual 1\n",
    "    def decompoeParaL(self, i):\n",
    "        for k in range(i, self.tamMaxA):\n",
    "            # Se iguais é uma diagonal e será atribuído o valor 1\n",
    "            if (i == k):\n",
    "                self.l[i][i] = 1.0;\n",
    "            else:\n",
    "                sum = 0; \n",
    "                # Se i igual a zero, não entra no for, pois L(ik) => A(ik)/U[i][i]\n",
    "                for j in range(i):\n",
    "                    sum += (self.l[k][j] * self.u[j][i])\n",
    "            \n",
    "                self.l[k][i] = (self.a[k][i] - sum)/self.u[i][i]\n",
    " \n",
    "    def iniciaDecomposicao(self):\n",
    "        for i in range(self.tamMaxA):\n",
    "            self.decompoeParaU(i)\n",
    "            self.decompoeParaL(i)\n",
    "        self.imprimeMatriz(\"Matriz L\", self.l)\n",
    "        self.imprimeMatriz(\"Matriz U\", self.u)\n",
    "#         self.imprimeMatriz(\"Matriz L\", self.l)\n",
    "  \n",
    "    def resolveSistemaLinear(self):\n",
    "        # Tal matriz A*x=b \n",
    "        # Tenho matriz L*y=b\n",
    "        # E tenho matriz U*x=y\n",
    "      y = np.linalg.solve(self.l, self.b)\n",
    "      print(\"*\"*15, \"Resultante Y encontrada\", \"*\"*15)\n",
    "      print(\"\\nx1 = \", y[0][0])\n",
    "      print(\"\\nx2 = \", y[1][0])\n",
    "      print(\"\\nx3 = \", y[2][0])\n",
    "      x = np.linalg.solve(self.u, y)\n",
    "      print(\"*\"*15, \"Resultado Final\", \"*\"*15)\n",
    "      print(\"\\nx1 = \", x[0][0])\n",
    "      print(\"\\nx2 = \", x[1][0])\n",
    "      print(\"\\nx3 = \", x[2][0])\n"
   ]
  },
  {
   "cell_type": "code",
   "execution_count": 96,
   "metadata": {},
   "outputs": [
    {
     "name": "stdout",
     "output_type": "stream",
     "text": [
      "*************** Decomposicao LU ***************\n",
      "Matriz Original\n",
      "[0.448 0.832 0.193 ] [ 1.0 ]\n",
      "[0.421 0.784 -0.207 ] [ 0.0 ]\n",
      "[-0.421 0.784 0.279 ] [ 0.0 ]\n",
      "************************************************* \n",
      "\n"
     ]
    }
   ],
   "source": [
    "print(\"*\"*15, \"Decomposicao LU\", \"*\"*15)\n",
    "\n",
    "a = np.array([[0.448, 0.832, 0.193], [0.421, 0.784, -0.207], [-0.421, 0.784, 0.279]])\n",
    "# a = np.array([[3.0, 2.0, 4.0], [1.0, 1.0, 2.0], [4.0, 3.0, -2.0]])\n",
    "# b = np.array([[1.0], [0.0], [0.0]])\n",
    "b = np.array([[1.0], [2.0], [3.0]])\n",
    "    \n",
    "d = Decomposicao(a, b)\n",
    "d.imprimeMatriz(\"Matriz Original\", d.a, d.b)"
   ]
  },
  {
   "cell_type": "code",
   "execution_count": 97,
   "metadata": {},
   "outputs": [
    {
     "name": "stdout",
     "output_type": "stream",
     "text": [
      "Matriz L\n",
      "[1.0 0.0 0.0 ]\n",
      "[0.9397321428571428 1.0 0.0 ]\n",
      "[-0.9397321428571428 730.7333333333056 1.0 ]\n",
      "************************************************* \n",
      "\n",
      "Matriz U\n",
      "[0.448 0.832 0.193 ]\n",
      "[0.0 0.002142857142857224 -0.38836830357142854 ]\n",
      "[0.0 0.0 284.2540333333226 ]\n",
      "************************************************* \n",
      "\n"
     ]
    }
   ],
   "source": [
    "d.iniciaDecomposicao()"
   ]
  },
  {
   "cell_type": "code",
   "execution_count": 98,
   "metadata": {},
   "outputs": [
    {
     "name": "stdout",
     "output_type": "stream",
     "text": [
      "*************** Resultante Y encontrada ***************\n",
      "\n",
      "x1 =  1.0\n",
      "\n",
      "x2 =  -0.9397321428571429\n",
      "\n",
      "x3 =  687.6333333333073\n",
      "*************** Resultado Final ***************\n",
      "\n",
      "x1 =  1.3962862561552172\n",
      "\n",
      "x2 =  -0.1110802180350566\n",
      "\n",
      "x3 =  2.41908030387373\n"
     ]
    }
   ],
   "source": [
    "d.resolveSistemaLinear()"
   ]
  },
  {
   "cell_type": "code",
   "execution_count": null,
   "metadata": {},
   "outputs": [],
   "source": []
  }
 ],
 "metadata": {
  "kernelspec": {
   "display_name": "Python 3",
   "language": "python",
   "name": "python3"
  },
  "language_info": {
   "codemirror_mode": {
    "name": "ipython",
    "version": 3
   },
   "file_extension": ".py",
   "mimetype": "text/x-python",
   "name": "python",
   "nbconvert_exporter": "python",
   "pygments_lexer": "ipython3",
   "version": "3.7.3"
  }
 },
 "nbformat": 4,
 "nbformat_minor": 2
}
