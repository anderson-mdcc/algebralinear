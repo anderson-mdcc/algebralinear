{
 "cells": [
  {
   "cell_type": "markdown",
   "metadata": {},
   "source": [
    "# Pivotação total"
   ]
  },
  {
   "cell_type": "code",
   "execution_count": 221,
   "metadata": {},
   "outputs": [],
   "source": [
    "# imports\n",
    "import numpy as np"
   ]
  },
  {
   "cell_type": "code",
   "execution_count": 222,
   "metadata": {},
   "outputs": [],
   "source": [
    "class Pivotacao(object):\n",
    "    def __init__(self, a, b):\n",
    "        self.a = a\n",
    "        self.b = b\n",
    "        # Linha e coluna onde se encontram o pivo\n",
    "        self.lPivo = 0\n",
    "        self.cPivo = 0\n",
    "    \n",
    "    def imprimeMatriz(self, msg):\n",
    "      print(msg)\n",
    "      for l in range(0, len(self.a)):\n",
    "          print('[', end='')\n",
    "          for c in range(0, len(self.a)):\n",
    "              print(self.a[l][c], end=' ')\n",
    "          print(']', end=' ')\n",
    "          print('[', self.b[l][0], ']')\n",
    "      print(\"*\"*49, '\\n')\n",
    "\n",
    "    \n",
    "    def checaColuna(self, linha):\n",
    "      isZerado = True\n",
    "      for l in range(linha + 1, len(self.a)):\n",
    "          if self.a[l][linha] != 0:\n",
    "            isZerado = False \n",
    "      return isZerado\n",
    "\n",
    "    def mudaLinhas(self, lAtual):\n",
    "      linhaAtual = np.copy(self.a[lAtual])\n",
    "      self.a[lAtual] = self.a[self.lPivo]\n",
    "      self.a[self.lPivo] = linhaAtual\n",
    "      # Mudando as linhas da matriz b\n",
    "      linhaAtual = np.copy(self.b[lAtual])\n",
    "      self.b[lAtual] = self.b[self.lPivo]\n",
    "      self.b[self.lPivo] = linhaAtual\n",
    "    \n",
    "    def mudaColunas(self, cAtual):\n",
    "      for l in range(len(self.a)):\n",
    "        colunaAtual = self.a[l][cAtual]\n",
    "        self.a[l][cAtual] = self.a[l][self.cPivo]\n",
    "        self.a[l][self.cPivo] = colunaAtual\n",
    "    \n",
    "    def mudaValores(self, linhaAtual):\n",
    "      matrizAuxA = self.a\n",
    "      matrizAuxB = self.b\n",
    "    \n",
    "      for l in range(linhaAtual + 1, len(self.a)):\n",
    "        multiplicador = self.a[l][linhaAtual]/self.a[linhaAtual][linhaAtual]\n",
    "        for c in range (linhaAtual, len(self.a[0])):\n",
    "          matrizAuxA[l][c] = self.a[l][c] - (multiplicador * self.a[linhaAtual][c])\n",
    "        #Mudando os valores de b\n",
    "        matrizAuxB[l][0] = self.b[l][0] - (multiplicador * self.b[linhaAtual][0])\n",
    "      self.a = matrizAuxA\n",
    "      self.b = matrizAuxB\n",
    "        \n",
    "    def achaMaiorCoeficiente(self, linhaAtual):\n",
    "        linhamaiorCoeficiente = 0\n",
    "        colunamaiorCoeficiente = 0\n",
    "        for l in range (len(self.a)):\n",
    "            for c in range(len(self.a[0])):\n",
    "                 if l >= linhaAtual:\n",
    "                     if abs(self.a[linhamaiorCoeficiente][colunamaiorCoeficiente]) < abs(self.a[l][c]):\n",
    "                            linhamaiorCoeficiente = l\n",
    "                            colunamaiorCoeficiente = c\n",
    "        return linhamaiorCoeficiente, colunamaiorCoeficiente\n",
    "\n",
    "    def iniciaPivoteamento(self):\n",
    "        for l in range (len(self.a)):\n",
    "            isZerado = True\n",
    "            # Checando se os elementos da colunas estão zerados\n",
    "            isZerado = self.checaColuna(l)\n",
    "            if not isZerado:\n",
    "                self.lPivo, self.cPivo = self.achaMaiorCoeficiente(l)\n",
    "                if self.lPivo != l:\n",
    "                    self.mudaLinhas(l)\n",
    "                if self.cPivo != l:\n",
    "                    self.mudaColunas(l)\n",
    "                self.imprimeMatriz(\"Matriz pivoteada\")\n",
    "                self.mudaValores(l)\n",
    "                self.imprimeMatriz(\"Matriz valores mudados\")\n",
    "  \n",
    "    def resolveSistemaLinear(self):\n",
    "      a_inversa = np.linalg.inv(self.a)\n",
    "      res = np.dot(a_inversa, b)\n",
    "      print(\"*\"*15, \"Resultado Final\", \"*\"*15)\n",
    "      print(\"\\nx1 = \", res[0][0])\n",
    "      print(\"\\nx2 = \", res[1][0])\n",
    "      print(\"\\nx3 = \", res[2][0])\n",
    "\n"
   ]
  },
  {
   "cell_type": "code",
   "execution_count": 223,
   "metadata": {},
   "outputs": [
    {
     "name": "stdout",
     "output_type": "stream",
     "text": [
      "*************** Pivotação Total ***************\n",
      "Matriz Original\n",
      "[-0.421 0.784 0.279 ] [ 0.0 ]\n",
      "[0.448 0.832 0.193 ] [ 1.0 ]\n",
      "[0.421 0.784 -0.207 ] [ 0.0 ]\n",
      "************************************************* \n",
      "\n"
     ]
    }
   ],
   "source": [
    "print(\"*\"*15, \"Pivotação Total\", \"*\"*15)\n",
    "\n",
    "a = np.array([[-0.421, 0.784, 0.279], [0.448, 0.832, 0.193], [0.421, 0.784, -0.207]])\n",
    "b = np.array([[0.0], [1.0], [0.0]])\n",
    "    \n",
    "p = Pivotacao(a, b)\n",
    "p.imprimeMatriz(\"Matriz Original\")"
   ]
  },
  {
   "cell_type": "code",
   "execution_count": 224,
   "metadata": {
    "scrolled": true
   },
   "outputs": [
    {
     "name": "stdout",
     "output_type": "stream",
     "text": [
      "Matriz pivoteada\n",
      "[0.832 0.448 0.193 ] [ 1.0 ]\n",
      "[0.784 -0.421 0.279 ] [ 0.0 ]\n",
      "[0.784 0.421 -0.207 ] [ 0.0 ]\n",
      "************************************************* \n",
      "\n",
      "Matriz valores mudados\n",
      "[0.832 0.448 0.193 ] [ 1.0 ]\n",
      "[0.0 -0.8431538461538461 0.09713461538461537 ] [ -0.9423076923076924 ]\n",
      "[0.0 -0.0011538461538462275 -0.38886538461538467 ] [ -0.9423076923076924 ]\n",
      "************************************************* \n",
      "\n",
      "Matriz pivoteada\n",
      "[0.832 0.448 0.193 ] [ 1.0 ]\n",
      "[0.0 -0.8431538461538461 0.09713461538461537 ] [ -0.9423076923076924 ]\n",
      "[0.0 -0.0011538461538462275 -0.38886538461538467 ] [ -0.9423076923076924 ]\n",
      "************************************************* \n",
      "\n",
      "Matriz valores mudados\n",
      "[0.832 0.448 0.193 ] [ 1.0 ]\n",
      "[0.0 -0.8431538461538461 0.09713461538461537 ] [ -0.9423076923076924 ]\n",
      "[0.0 0.0 -0.38899831219779224 ] [ -0.9410181552778031 ]\n",
      "************************************************* \n",
      "\n"
     ]
    }
   ],
   "source": [
    "p.iniciaPivoteamento()"
   ]
  },
  {
   "cell_type": "code",
   "execution_count": 225,
   "metadata": {},
   "outputs": [
    {
     "name": "stdout",
     "output_type": "stream",
     "text": [
      "*************** Resultado Final ***************\n",
      "\n",
      "x1 =  -0.11108021803501789\n",
      "\n",
      "x2 =  1.3962862561551457\n",
      "\n",
      "x3 =  2.419080303873729\n"
     ]
    }
   ],
   "source": [
    "p.resolveSistemaLinear()"
   ]
  },
  {
   "cell_type": "code",
   "execution_count": null,
   "metadata": {},
   "outputs": [],
   "source": []
  }
 ],
 "metadata": {
  "kernelspec": {
   "display_name": "Python 3",
   "language": "python",
   "name": "python3"
  },
  "language_info": {
   "codemirror_mode": {
    "name": "ipython",
    "version": 3
   },
   "file_extension": ".py",
   "mimetype": "text/x-python",
   "name": "python",
   "nbconvert_exporter": "python",
   "pygments_lexer": "ipython3",
   "version": "3.7.3"
  }
 },
 "nbformat": 4,
 "nbformat_minor": 2
}
