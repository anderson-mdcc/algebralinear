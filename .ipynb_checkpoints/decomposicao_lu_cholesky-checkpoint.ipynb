{
 "cells": [
  {
   "cell_type": "markdown",
   "metadata": {},
   "source": [
    "# Decomposição LU - Cholesky"
   ]
  },
  {
   "cell_type": "code",
   "execution_count": 32,
   "metadata": {},
   "outputs": [],
   "source": [
    "# imports\n",
    "import numpy as np\n",
    "import math"
   ]
  },
  {
   "cell_type": "code",
   "execution_count": 33,
   "metadata": {},
   "outputs": [],
   "source": [
    "class Decomposicao(object):\n",
    "    def __init__(self, a, b):\n",
    "        self.a = a\n",
    "        self.b = b\n",
    "        self.tamMaxA = len(a)\n",
    "        # Gerando a matriz L zerada para melhor cálculo\n",
    "        self.l = [[0.0 for x in range(self.tamMaxA)] for y in range(self.tamMaxA)] \n",
    "        # Gerando a matriz trasposta com valores inicialmente zerados para melhor cálculo\n",
    "        self.t = [[0.0 for x in range(self.tamMaxA)] for y in range(self.tamMaxA)]\n",
    "            \n",
    "    def imprimeMatriz(self, msg, a, b=[]):\n",
    "      print(msg)\n",
    "      for l in range(0, self.tamMaxA):\n",
    "          print('[', end='')\n",
    "          for c in range(0, len(a[0])):\n",
    "              print(a[l][c], end=' ')\n",
    "          \n",
    "          if len(b) != 0:\n",
    "              print(']', end=' ')\n",
    "              print('[', b[l][0], ']')\n",
    "          else:\n",
    "              print(']')\n",
    "            \n",
    "      print(\"*\"*49, '\\n')\n",
    "    \n",
    "    # Criando uma matriz triangular inferior\n",
    "    def decompoeParaL(self):\n",
    "        for i in range(self.tamMaxA):\n",
    "            # (i + 1) para forçar a entrada no loop\n",
    "            for j in range(i + 1):\n",
    "                soma = 0\n",
    "                \n",
    "                # Verificando se é uma diagonal\n",
    "                if(j == i):\n",
    "                    for k in range(j):\n",
    "                        soma += pow(self.l[j][k], 2)\n",
    "                    self.l[j][j] = math.sqrt(self.a[j][j] - soma)\n",
    "                # Se não for uma diagonal\n",
    "                else:\n",
    "                    for k in range(j):\n",
    "                        soma += (self.l[i][k] * self.l[j][k])\n",
    "                    # Como L[j][j] será utilizado para uma divisão, o valor não pode ser zero\n",
    "                    if(self.l[j][j] > 0):\n",
    "                        self.l[i][j] = (self.a[i][j] - soma)/self.l[j][j]\n",
    "    \n",
    "    def criaTransposta(self):\n",
    "        for i in range(self.tamMaxA):\n",
    "            for j in range(self.tamMaxA):\n",
    "                self.t[j][i] = self.l[i][j]\n",
    " \n",
    "    def iniciaDecomposicao(self):\n",
    "        self.decompoeParaL()\n",
    "        self.criaTransposta()\n",
    "        self.imprimeMatriz(\"Matriz L\", self.l)\n",
    "        self.imprimeMatriz(\"Matriz Transposta de L\", self.t)\n",
    "  \n",
    "    def resolveSistemaLinear(self):\n",
    "        # Tal matriz A*x=b \n",
    "        # Tenho matriz L*y=b\n",
    "        # E tenho matriz LT*x=y\n",
    "      y = np.linalg.solve(self.l, self.b)\n",
    "      print(\"*\"*15, \"Resultante Y encontrada\", \"*\"*15)\n",
    "      print(\"\\ny1 = \", y[0][0])\n",
    "      print(\"\\ny2 = \", y[1][0])\n",
    "      print(\"\\ny3 = \", y[2][0])\n",
    "      x = np.linalg.solve(self.t, y)\n",
    "      print(\"*\"*15, \"Resultado Final\", \"*\"*15)\n",
    "      print(\"\\nx1 = \", x[0][0])\n",
    "      print(\"\\nx2 = \", x[1][0])\n",
    "      print(\"\\nx3 = \", x[2][0])\n"
   ]
  },
  {
   "cell_type": "code",
   "execution_count": 34,
   "metadata": {},
   "outputs": [
    {
     "name": "stdout",
     "output_type": "stream",
     "text": [
      "*************** Decomposicao LU - Cholesky ***************\n",
      "Matriz Original\n",
      "[4.0 12.0 -16.0 ] [ 1.0 ]\n",
      "[12.0 37.0 -43.0 ] [ 2.0 ]\n",
      "[-16.0 -43.0 98.0 ] [ 3.0 ]\n",
      "************************************************* \n",
      "\n"
     ]
    }
   ],
   "source": [
    "print(\"*\"*15, \"Decomposicao LU - Cholesky\", \"*\"*15)\n",
    "\n",
    "a = np.array([[4.0, 12.0, -16.0], [12.0, 37.0, -43.0], [-16.0, -43.0, 98.0]])\n",
    "b = np.array([[1.0], [2.0], [3.0]])\n",
    "    \n",
    "d = Decomposicao(a, b)\n",
    "d.imprimeMatriz(\"Matriz Original\", d.a, d.b)"
   ]
  },
  {
   "cell_type": "code",
   "execution_count": 35,
   "metadata": {},
   "outputs": [
    {
     "name": "stdout",
     "output_type": "stream",
     "text": [
      "Matriz L\n",
      "[2.0 0.0 0.0 ]\n",
      "[6.0 1.0 0.0 ]\n",
      "[-8.0 5.0 3.0 ]\n",
      "************************************************* \n",
      "\n",
      "Matriz Transposta de L\n",
      "[2.0 6.0 -8.0 ]\n",
      "[0.0 1.0 5.0 ]\n",
      "[0.0 0.0 3.0 ]\n",
      "************************************************* \n",
      "\n"
     ]
    }
   ],
   "source": [
    "d.iniciaDecomposicao()"
   ]
  },
  {
   "cell_type": "code",
   "execution_count": 36,
   "metadata": {},
   "outputs": [
    {
     "name": "stdout",
     "output_type": "stream",
     "text": [
      "*************** Resultante Y encontrada ***************\n",
      "\n",
      "y1 =  0.5\n",
      "\n",
      "y2 =  -0.9999999999999992\n",
      "\n",
      "y3 =  3.9999999999999987\n",
      "*************** Resultado Final ***************\n",
      "\n",
      "x1 =  28.58333333333332\n",
      "\n",
      "x2 =  -7.666666666666663\n",
      "\n",
      "x3 =  1.3333333333333328\n"
     ]
    }
   ],
   "source": [
    "d.resolveSistemaLinear()"
   ]
  },
  {
   "cell_type": "code",
   "execution_count": null,
   "metadata": {},
   "outputs": [],
   "source": []
  }
 ],
 "metadata": {
  "kernelspec": {
   "display_name": "Python 3",
   "language": "python",
   "name": "python3"
  },
  "language_info": {
   "codemirror_mode": {
    "name": "ipython",
    "version": 3
   },
   "file_extension": ".py",
   "mimetype": "text/x-python",
   "name": "python",
   "nbconvert_exporter": "python",
   "pygments_lexer": "ipython3",
   "version": "3.7.3"
  }
 },
 "nbformat": 4,
 "nbformat_minor": 2
}
