{
 "cells": [
  {
   "cell_type": "markdown",
   "metadata": {},
   "source": [
    "# Mínimos Quadrados"
   ]
  },
  {
   "cell_type": "markdown",
   "metadata": {},
   "source": [
    "---\n",
    "### Imports"
   ]
  },
  {
   "cell_type": "code",
   "execution_count": 1,
   "metadata": {},
   "outputs": [],
   "source": [
    "import numpy as np\n",
    "from numpy import dot,diagonal,outer,identity,matmul,transpose,zeros_like\n",
    "from math import sqrt\n",
    "from numpy.linalg import inv as inversa"
   ]
  },
  {
   "cell_type": "markdown",
   "metadata": {},
   "source": [
    "### Matrizes de entrada: A e b"
   ]
  },
  {
   "cell_type": "code",
   "execution_count": 2,
   "metadata": {},
   "outputs": [
    {
     "name": "stdout",
     "output_type": "stream",
     "text": [
      "A:\n",
      " [[ 1 -1]\n",
      " [ 3  2]\n",
      " [-2  4]] \n",
      "\n",
      "b:\n",
      " [[4]\n",
      " [1]\n",
      " [3]] \n",
      "\n"
     ]
    }
   ],
   "source": [
    "#np.random.seed(31)\n",
    "#A = (np.random.rand(6,4) * 20).round()\n",
    "#print(A)\n",
    "\n",
    "A = np.matrix('1 -1; 3 2; -2 4')\n",
    "b = np.matrix('4; 1; 3')\n",
    "print('A:\\n', A, '\\n')\n",
    "print('b:\\n', b, '\\n')"
   ]
  },
  {
   "cell_type": "markdown",
   "metadata": {},
   "source": [
    "### Solução de mínimos quadrados"
   ]
  },
  {
   "cell_type": "code",
   "execution_count": 3,
   "metadata": {},
   "outputs": [
    {
     "name": "stdout",
     "output_type": "stream",
     "text": [
      "A.T * A:\n",
      " [[14 -3]\n",
      " [-3 21]] \n",
      "\n",
      "A.T * b:\n",
      " [[ 1]\n",
      " [10]] \n",
      "\n",
      "inv(AtA):\n",
      " [[0.07368421052631579649 0.01052631578947368397]\n",
      " [0.01052631578947368397 0.04912280701754385970]] \n",
      "\n",
      "x = inv(AtA) * AtB (Vetor de solução):\n",
      " [[0.17894736842105263275]\n",
      " [0.50175438596491228616]] \n",
      "\n"
     ]
    }
   ],
   "source": [
    "def set_numpy_decimal_places(places, width=0):\n",
    "    set_np = '{0:' + str(width) + '.' + str(places) + 'f}'\n",
    "    np.set_printoptions(formatter={'float': lambda x: set_np.format(x)})\n",
    "\n",
    "set_numpy_decimal_places(20)\n",
    "AtA = (A.T * A)\n",
    "AtB = (A.T * b)\n",
    "invAtA = inversa(AtA)\n",
    "x = invAtA * AtB\n",
    "\n",
    "print('A.T * A:\\n', AtA, '\\n')\n",
    "print('A.T * b:\\n', AtB, '\\n')\n",
    "\n",
    "print('inv(AtA):\\n', invAtA, '\\n')\n",
    "print('x = inv(AtA) * AtB (Vetor de solução):\\n', x, '\\n')"
   ]
  },
  {
   "cell_type": "markdown",
   "metadata": {},
   "source": [
    "### Vetor erro"
   ]
  },
  {
   "cell_type": "code",
   "execution_count": 4,
   "metadata": {},
   "outputs": [
    {
     "name": "stdout",
     "output_type": "stream",
     "text": [
      "[[4.32280701754385976443]\n",
      " [-0.54035087719298235953]\n",
      " [1.35087719298245612087]]\n"
     ]
    }
   ],
   "source": [
    "vErr = (b - A * x)\n",
    "print(vErr)"
   ]
  },
  {
   "cell_type": "markdown",
   "metadata": {},
   "source": [
    "### Erro"
   ]
  },
  {
   "cell_type": "code",
   "execution_count": 5,
   "metadata": {},
   "outputs": [
    {
     "name": "stdout",
     "output_type": "stream",
     "text": [
      "4.561086358745012\n"
     ]
    }
   ],
   "source": [
    "def norma(x):\n",
    "    return np.sqrt(np.sum(np.square(x)))\n",
    "\n",
    "print(norma(vErr))"
   ]
  },
  {
   "cell_type": "markdown",
   "metadata": {},
   "source": [
    "### Bibliografia\n",
    "Algebra Linear com Aplicações, página 366 seção 6.4"
   ]
  }
 ],
 "metadata": {
  "kernelspec": {
   "display_name": "Python 3",
   "language": "python",
   "name": "python3"
  },
  "language_info": {
   "codemirror_mode": {
    "name": "ipython",
    "version": 3
   },
   "file_extension": ".py",
   "mimetype": "text/x-python",
   "name": "python",
   "nbconvert_exporter": "python",
   "pygments_lexer": "ipython3",
   "version": "3.7.3"
  }
 },
 "nbformat": 4,
 "nbformat_minor": 2
}
